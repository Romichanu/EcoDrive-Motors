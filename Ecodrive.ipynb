{
  "nbformat": 4,
  "nbformat_minor": 0,
  "metadata": {
    "colab": {
      "provenance": []
    },
    "kernelspec": {
      "name": "python3",
      "display_name": "Python 3"
    },
    "language_info": {
      "name": "python"
    }
  },
  "cells": [
    {
      "cell_type": "code",
      "execution_count": 2,
      "metadata": {
        "colab": {
          "base_uri": "https://localhost:8080/"
        },
        "id": "he5Ycirtjix7",
        "outputId": "92e51a4e-bc88-4dc4-a841-13e1025584c5"
      },
      "outputs": [
        {
          "output_type": "stream",
          "name": "stdout",
          "text": [
            "Mounted at /content/drive\n"
          ]
        }
      ],
      "source": [
        "from google.colab import drive\n",
        "drive.mount('/content/drive')"
      ]
    },
    {
      "cell_type": "code",
      "source": [
        "import pandas as pd\n",
        "import numpy as np\n",
        "import matplotlib.pyplot as plt\n",
        "import seaborn as sns"
      ],
      "metadata": {
        "id": "xICQsFUqkISv"
      },
      "execution_count": 22,
      "outputs": []
    },
    {
      "cell_type": "code",
      "source": [
        "data = pd.read_excel('/content/drive/MyDrive/ecodrive/EcoDrive.xlsx')"
      ],
      "metadata": {
        "id": "o-JASMPQlSat"
      },
      "execution_count": 4,
      "outputs": []
    },
    {
      "cell_type": "code",
      "source": [
        "df = pd.DataFrame(data)"
      ],
      "metadata": {
        "id": "JKpER5V3l_k9"
      },
      "execution_count": 5,
      "outputs": []
    },
    {
      "cell_type": "markdown",
      "source": [
        "#**EcoDrive Motors Analysis**"
      ],
      "metadata": {
        "id": "ubU35EpznWzB"
      }
    },
    {
      "cell_type": "code",
      "source": [
        "df.head()"
      ],
      "metadata": {
        "colab": {
          "base_uri": "https://localhost:8080/",
          "height": 729
        },
        "id": "TUWgLavXnGuG",
        "outputId": "5aee5349-22bc-4690-a7ac-3454834087c6"
      },
      "execution_count": 6,
      "outputs": [
        {
          "output_type": "execute_result",
          "data": {
            "text/plain": [
              "   VIN (1-10)     County          City State  Postal Code  Model Year  \\\n",
              "0  1C4RJXN66R  Snohomish       Everett    WA      98204.0        2024   \n",
              "1  KNDJX3AEXG       King        Renton    WA      98058.0        2016   \n",
              "2  5YJ3E1EA3L       King       Seattle    WA      98125.0        2020   \n",
              "3  1G1RC6S5XH     Kitsap  Port Orchard    WA      98367.0        2017   \n",
              "4  5UXTA6C09P  Snohomish        Monroe    WA      98272.0        2023   \n",
              "\n",
              "        Make     Model                   Electric Vehicle Type  \\\n",
              "0       JEEP  WRANGLER  Plug-in Hybrid Electric Vehicle (PHEV)   \n",
              "1        KIA      SOUL          Battery Electric Vehicle (BEV)   \n",
              "2      TESLA   MODEL 3          Battery Electric Vehicle (BEV)   \n",
              "3  CHEVROLET      VOLT  Plug-in Hybrid Electric Vehicle (PHEV)   \n",
              "4        BMW        X5  Plug-in Hybrid Electric Vehicle (PHEV)   \n",
              "\n",
              "  Clean Alternative Fuel Vehicle (CAFV) Eligibility  Electric Range  \\\n",
              "0             Not eligible due to low battery range              21   \n",
              "1           Clean Alternative Fuel Vehicle Eligible              93   \n",
              "2           Clean Alternative Fuel Vehicle Eligible             266   \n",
              "3           Clean Alternative Fuel Vehicle Eligible              53   \n",
              "4           Clean Alternative Fuel Vehicle Eligible              30   \n",
              "\n",
              "   Base MSRP  Legislative District  DOL Vehicle ID  \\\n",
              "0          0                  21.0       261311557   \n",
              "1      31950                  11.0       210641315   \n",
              "2          0                  46.0       124517347   \n",
              "3          0                  26.0         7832933   \n",
              "4          0                  39.0       235249262   \n",
              "\n",
              "                  Vehicle Location  \\\n",
              "0  POINT (-122.2507211 47.8976713)   \n",
              "1  POINT (-122.1476337 47.4438471)   \n",
              "2    POINT (-122.304356 47.715668)   \n",
              "3  POINT (-122.6530052 47.4739066)   \n",
              "4    POINT (-121.968385 47.854897)   \n",
              "\n",
              "                                Electric Utility  2020 Census Tract  \\\n",
              "0                         PUGET SOUND ENERGY INC       5.306104e+10   \n",
              "1  PUGET SOUND ENERGY INC||CITY OF TACOMA - (WA)       5.303303e+10   \n",
              "2   CITY OF SEATTLE - (WA)|CITY OF TACOMA - (WA)       5.303300e+10   \n",
              "3                         PUGET SOUND ENERGY INC       5.303509e+10   \n",
              "4                         PUGET SOUND ENERGY INC       5.306105e+10   \n",
              "\n",
              "   Unnamed: 17  \n",
              "0            1  \n",
              "1            2  \n",
              "2            3  \n",
              "3            4  \n",
              "4            5  "
            ],
            "text/html": [
              "\n",
              "  <div id=\"df-53249298-e5ab-4d43-a898-fa9ab9580420\" class=\"colab-df-container\">\n",
              "    <div>\n",
              "<style scoped>\n",
              "    .dataframe tbody tr th:only-of-type {\n",
              "        vertical-align: middle;\n",
              "    }\n",
              "\n",
              "    .dataframe tbody tr th {\n",
              "        vertical-align: top;\n",
              "    }\n",
              "\n",
              "    .dataframe thead th {\n",
              "        text-align: right;\n",
              "    }\n",
              "</style>\n",
              "<table border=\"1\" class=\"dataframe\">\n",
              "  <thead>\n",
              "    <tr style=\"text-align: right;\">\n",
              "      <th></th>\n",
              "      <th>VIN (1-10)</th>\n",
              "      <th>County</th>\n",
              "      <th>City</th>\n",
              "      <th>State</th>\n",
              "      <th>Postal Code</th>\n",
              "      <th>Model Year</th>\n",
              "      <th>Make</th>\n",
              "      <th>Model</th>\n",
              "      <th>Electric Vehicle Type</th>\n",
              "      <th>Clean Alternative Fuel Vehicle (CAFV) Eligibility</th>\n",
              "      <th>Electric Range</th>\n",
              "      <th>Base MSRP</th>\n",
              "      <th>Legislative District</th>\n",
              "      <th>DOL Vehicle ID</th>\n",
              "      <th>Vehicle Location</th>\n",
              "      <th>Electric Utility</th>\n",
              "      <th>2020 Census Tract</th>\n",
              "      <th>Unnamed: 17</th>\n",
              "    </tr>\n",
              "  </thead>\n",
              "  <tbody>\n",
              "    <tr>\n",
              "      <th>0</th>\n",
              "      <td>1C4RJXN66R</td>\n",
              "      <td>Snohomish</td>\n",
              "      <td>Everett</td>\n",
              "      <td>WA</td>\n",
              "      <td>98204.0</td>\n",
              "      <td>2024</td>\n",
              "      <td>JEEP</td>\n",
              "      <td>WRANGLER</td>\n",
              "      <td>Plug-in Hybrid Electric Vehicle (PHEV)</td>\n",
              "      <td>Not eligible due to low battery range</td>\n",
              "      <td>21</td>\n",
              "      <td>0</td>\n",
              "      <td>21.0</td>\n",
              "      <td>261311557</td>\n",
              "      <td>POINT (-122.2507211 47.8976713)</td>\n",
              "      <td>PUGET SOUND ENERGY INC</td>\n",
              "      <td>5.306104e+10</td>\n",
              "      <td>1</td>\n",
              "    </tr>\n",
              "    <tr>\n",
              "      <th>1</th>\n",
              "      <td>KNDJX3AEXG</td>\n",
              "      <td>King</td>\n",
              "      <td>Renton</td>\n",
              "      <td>WA</td>\n",
              "      <td>98058.0</td>\n",
              "      <td>2016</td>\n",
              "      <td>KIA</td>\n",
              "      <td>SOUL</td>\n",
              "      <td>Battery Electric Vehicle (BEV)</td>\n",
              "      <td>Clean Alternative Fuel Vehicle Eligible</td>\n",
              "      <td>93</td>\n",
              "      <td>31950</td>\n",
              "      <td>11.0</td>\n",
              "      <td>210641315</td>\n",
              "      <td>POINT (-122.1476337 47.4438471)</td>\n",
              "      <td>PUGET SOUND ENERGY INC||CITY OF TACOMA - (WA)</td>\n",
              "      <td>5.303303e+10</td>\n",
              "      <td>2</td>\n",
              "    </tr>\n",
              "    <tr>\n",
              "      <th>2</th>\n",
              "      <td>5YJ3E1EA3L</td>\n",
              "      <td>King</td>\n",
              "      <td>Seattle</td>\n",
              "      <td>WA</td>\n",
              "      <td>98125.0</td>\n",
              "      <td>2020</td>\n",
              "      <td>TESLA</td>\n",
              "      <td>MODEL 3</td>\n",
              "      <td>Battery Electric Vehicle (BEV)</td>\n",
              "      <td>Clean Alternative Fuel Vehicle Eligible</td>\n",
              "      <td>266</td>\n",
              "      <td>0</td>\n",
              "      <td>46.0</td>\n",
              "      <td>124517347</td>\n",
              "      <td>POINT (-122.304356 47.715668)</td>\n",
              "      <td>CITY OF SEATTLE - (WA)|CITY OF TACOMA - (WA)</td>\n",
              "      <td>5.303300e+10</td>\n",
              "      <td>3</td>\n",
              "    </tr>\n",
              "    <tr>\n",
              "      <th>3</th>\n",
              "      <td>1G1RC6S5XH</td>\n",
              "      <td>Kitsap</td>\n",
              "      <td>Port Orchard</td>\n",
              "      <td>WA</td>\n",
              "      <td>98367.0</td>\n",
              "      <td>2017</td>\n",
              "      <td>CHEVROLET</td>\n",
              "      <td>VOLT</td>\n",
              "      <td>Plug-in Hybrid Electric Vehicle (PHEV)</td>\n",
              "      <td>Clean Alternative Fuel Vehicle Eligible</td>\n",
              "      <td>53</td>\n",
              "      <td>0</td>\n",
              "      <td>26.0</td>\n",
              "      <td>7832933</td>\n",
              "      <td>POINT (-122.6530052 47.4739066)</td>\n",
              "      <td>PUGET SOUND ENERGY INC</td>\n",
              "      <td>5.303509e+10</td>\n",
              "      <td>4</td>\n",
              "    </tr>\n",
              "    <tr>\n",
              "      <th>4</th>\n",
              "      <td>5UXTA6C09P</td>\n",
              "      <td>Snohomish</td>\n",
              "      <td>Monroe</td>\n",
              "      <td>WA</td>\n",
              "      <td>98272.0</td>\n",
              "      <td>2023</td>\n",
              "      <td>BMW</td>\n",
              "      <td>X5</td>\n",
              "      <td>Plug-in Hybrid Electric Vehicle (PHEV)</td>\n",
              "      <td>Clean Alternative Fuel Vehicle Eligible</td>\n",
              "      <td>30</td>\n",
              "      <td>0</td>\n",
              "      <td>39.0</td>\n",
              "      <td>235249262</td>\n",
              "      <td>POINT (-121.968385 47.854897)</td>\n",
              "      <td>PUGET SOUND ENERGY INC</td>\n",
              "      <td>5.306105e+10</td>\n",
              "      <td>5</td>\n",
              "    </tr>\n",
              "  </tbody>\n",
              "</table>\n",
              "</div>\n",
              "    <div class=\"colab-df-buttons\">\n",
              "\n",
              "  <div class=\"colab-df-container\">\n",
              "    <button class=\"colab-df-convert\" onclick=\"convertToInteractive('df-53249298-e5ab-4d43-a898-fa9ab9580420')\"\n",
              "            title=\"Convert this dataframe to an interactive table.\"\n",
              "            style=\"display:none;\">\n",
              "\n",
              "  <svg xmlns=\"http://www.w3.org/2000/svg\" height=\"24px\" viewBox=\"0 -960 960 960\">\n",
              "    <path d=\"M120-120v-720h720v720H120Zm60-500h600v-160H180v160Zm220 220h160v-160H400v160Zm0 220h160v-160H400v160ZM180-400h160v-160H180v160Zm440 0h160v-160H620v160ZM180-180h160v-160H180v160Zm440 0h160v-160H620v160Z\"/>\n",
              "  </svg>\n",
              "    </button>\n",
              "\n",
              "  <style>\n",
              "    .colab-df-container {\n",
              "      display:flex;\n",
              "      gap: 12px;\n",
              "    }\n",
              "\n",
              "    .colab-df-convert {\n",
              "      background-color: #E8F0FE;\n",
              "      border: none;\n",
              "      border-radius: 50%;\n",
              "      cursor: pointer;\n",
              "      display: none;\n",
              "      fill: #1967D2;\n",
              "      height: 32px;\n",
              "      padding: 0 0 0 0;\n",
              "      width: 32px;\n",
              "    }\n",
              "\n",
              "    .colab-df-convert:hover {\n",
              "      background-color: #E2EBFA;\n",
              "      box-shadow: 0px 1px 2px rgba(60, 64, 67, 0.3), 0px 1px 3px 1px rgba(60, 64, 67, 0.15);\n",
              "      fill: #174EA6;\n",
              "    }\n",
              "\n",
              "    .colab-df-buttons div {\n",
              "      margin-bottom: 4px;\n",
              "    }\n",
              "\n",
              "    [theme=dark] .colab-df-convert {\n",
              "      background-color: #3B4455;\n",
              "      fill: #D2E3FC;\n",
              "    }\n",
              "\n",
              "    [theme=dark] .colab-df-convert:hover {\n",
              "      background-color: #434B5C;\n",
              "      box-shadow: 0px 1px 3px 1px rgba(0, 0, 0, 0.15);\n",
              "      filter: drop-shadow(0px 1px 2px rgba(0, 0, 0, 0.3));\n",
              "      fill: #FFFFFF;\n",
              "    }\n",
              "  </style>\n",
              "\n",
              "    <script>\n",
              "      const buttonEl =\n",
              "        document.querySelector('#df-53249298-e5ab-4d43-a898-fa9ab9580420 button.colab-df-convert');\n",
              "      buttonEl.style.display =\n",
              "        google.colab.kernel.accessAllowed ? 'block' : 'none';\n",
              "\n",
              "      async function convertToInteractive(key) {\n",
              "        const element = document.querySelector('#df-53249298-e5ab-4d43-a898-fa9ab9580420');\n",
              "        const dataTable =\n",
              "          await google.colab.kernel.invokeFunction('convertToInteractive',\n",
              "                                                    [key], {});\n",
              "        if (!dataTable) return;\n",
              "\n",
              "        const docLinkHtml = 'Like what you see? Visit the ' +\n",
              "          '<a target=\"_blank\" href=https://colab.research.google.com/notebooks/data_table.ipynb>data table notebook</a>'\n",
              "          + ' to learn more about interactive tables.';\n",
              "        element.innerHTML = '';\n",
              "        dataTable['output_type'] = 'display_data';\n",
              "        await google.colab.output.renderOutput(dataTable, element);\n",
              "        const docLink = document.createElement('div');\n",
              "        docLink.innerHTML = docLinkHtml;\n",
              "        element.appendChild(docLink);\n",
              "      }\n",
              "    </script>\n",
              "  </div>\n",
              "\n",
              "\n",
              "<div id=\"df-fb6acc02-b097-48b1-9bff-1dca9daab045\">\n",
              "  <button class=\"colab-df-quickchart\" onclick=\"quickchart('df-fb6acc02-b097-48b1-9bff-1dca9daab045')\"\n",
              "            title=\"Suggest charts\"\n",
              "            style=\"display:none;\">\n",
              "\n",
              "<svg xmlns=\"http://www.w3.org/2000/svg\" height=\"24px\"viewBox=\"0 0 24 24\"\n",
              "     width=\"24px\">\n",
              "    <g>\n",
              "        <path d=\"M19 3H5c-1.1 0-2 .9-2 2v14c0 1.1.9 2 2 2h14c1.1 0 2-.9 2-2V5c0-1.1-.9-2-2-2zM9 17H7v-7h2v7zm4 0h-2V7h2v10zm4 0h-2v-4h2v4z\"/>\n",
              "    </g>\n",
              "</svg>\n",
              "  </button>\n",
              "\n",
              "<style>\n",
              "  .colab-df-quickchart {\n",
              "      --bg-color: #E8F0FE;\n",
              "      --fill-color: #1967D2;\n",
              "      --hover-bg-color: #E2EBFA;\n",
              "      --hover-fill-color: #174EA6;\n",
              "      --disabled-fill-color: #AAA;\n",
              "      --disabled-bg-color: #DDD;\n",
              "  }\n",
              "\n",
              "  [theme=dark] .colab-df-quickchart {\n",
              "      --bg-color: #3B4455;\n",
              "      --fill-color: #D2E3FC;\n",
              "      --hover-bg-color: #434B5C;\n",
              "      --hover-fill-color: #FFFFFF;\n",
              "      --disabled-bg-color: #3B4455;\n",
              "      --disabled-fill-color: #666;\n",
              "  }\n",
              "\n",
              "  .colab-df-quickchart {\n",
              "    background-color: var(--bg-color);\n",
              "    border: none;\n",
              "    border-radius: 50%;\n",
              "    cursor: pointer;\n",
              "    display: none;\n",
              "    fill: var(--fill-color);\n",
              "    height: 32px;\n",
              "    padding: 0;\n",
              "    width: 32px;\n",
              "  }\n",
              "\n",
              "  .colab-df-quickchart:hover {\n",
              "    background-color: var(--hover-bg-color);\n",
              "    box-shadow: 0 1px 2px rgba(60, 64, 67, 0.3), 0 1px 3px 1px rgba(60, 64, 67, 0.15);\n",
              "    fill: var(--button-hover-fill-color);\n",
              "  }\n",
              "\n",
              "  .colab-df-quickchart-complete:disabled,\n",
              "  .colab-df-quickchart-complete:disabled:hover {\n",
              "    background-color: var(--disabled-bg-color);\n",
              "    fill: var(--disabled-fill-color);\n",
              "    box-shadow: none;\n",
              "  }\n",
              "\n",
              "  .colab-df-spinner {\n",
              "    border: 2px solid var(--fill-color);\n",
              "    border-color: transparent;\n",
              "    border-bottom-color: var(--fill-color);\n",
              "    animation:\n",
              "      spin 1s steps(1) infinite;\n",
              "  }\n",
              "\n",
              "  @keyframes spin {\n",
              "    0% {\n",
              "      border-color: transparent;\n",
              "      border-bottom-color: var(--fill-color);\n",
              "      border-left-color: var(--fill-color);\n",
              "    }\n",
              "    20% {\n",
              "      border-color: transparent;\n",
              "      border-left-color: var(--fill-color);\n",
              "      border-top-color: var(--fill-color);\n",
              "    }\n",
              "    30% {\n",
              "      border-color: transparent;\n",
              "      border-left-color: var(--fill-color);\n",
              "      border-top-color: var(--fill-color);\n",
              "      border-right-color: var(--fill-color);\n",
              "    }\n",
              "    40% {\n",
              "      border-color: transparent;\n",
              "      border-right-color: var(--fill-color);\n",
              "      border-top-color: var(--fill-color);\n",
              "    }\n",
              "    60% {\n",
              "      border-color: transparent;\n",
              "      border-right-color: var(--fill-color);\n",
              "    }\n",
              "    80% {\n",
              "      border-color: transparent;\n",
              "      border-right-color: var(--fill-color);\n",
              "      border-bottom-color: var(--fill-color);\n",
              "    }\n",
              "    90% {\n",
              "      border-color: transparent;\n",
              "      border-bottom-color: var(--fill-color);\n",
              "    }\n",
              "  }\n",
              "</style>\n",
              "\n",
              "  <script>\n",
              "    async function quickchart(key) {\n",
              "      const quickchartButtonEl =\n",
              "        document.querySelector('#' + key + ' button');\n",
              "      quickchartButtonEl.disabled = true;  // To prevent multiple clicks.\n",
              "      quickchartButtonEl.classList.add('colab-df-spinner');\n",
              "      try {\n",
              "        const charts = await google.colab.kernel.invokeFunction(\n",
              "            'suggestCharts', [key], {});\n",
              "      } catch (error) {\n",
              "        console.error('Error during call to suggestCharts:', error);\n",
              "      }\n",
              "      quickchartButtonEl.classList.remove('colab-df-spinner');\n",
              "      quickchartButtonEl.classList.add('colab-df-quickchart-complete');\n",
              "    }\n",
              "    (() => {\n",
              "      let quickchartButtonEl =\n",
              "        document.querySelector('#df-fb6acc02-b097-48b1-9bff-1dca9daab045 button');\n",
              "      quickchartButtonEl.style.display =\n",
              "        google.colab.kernel.accessAllowed ? 'block' : 'none';\n",
              "    })();\n",
              "  </script>\n",
              "</div>\n",
              "\n",
              "    </div>\n",
              "  </div>\n"
            ],
            "application/vnd.google.colaboratory.intrinsic+json": {
              "type": "dataframe",
              "variable_name": "df",
              "summary": "{\n  \"name\": \"df\",\n  \"rows\": 50000,\n  \"fields\": [\n    {\n      \"column\": \"VIN (1-10)\",\n      \"properties\": {\n        \"dtype\": \"category\",\n        \"num_unique_values\": 8097,\n        \"samples\": [\n          \"1V2BMPE8XR\",\n          \"1FTVW1BK8R\",\n          \"1G1RB6E42E\"\n        ],\n        \"semantic_type\": \"\",\n        \"description\": \"\"\n      }\n    },\n    {\n      \"column\": \"County\",\n      \"properties\": {\n        \"dtype\": \"category\",\n        \"num_unique_values\": 39,\n        \"samples\": [\n          \"San Juan\",\n          \"Pacific\",\n          \"Thurston\"\n        ],\n        \"semantic_type\": \"\",\n        \"description\": \"\"\n      }\n    },\n    {\n      \"column\": \"City\",\n      \"properties\": {\n        \"dtype\": \"category\",\n        \"num_unique_values\": 266,\n        \"samples\": [\n          \"Ryderwood\",\n          \"Outlook\",\n          \"Shelton\"\n        ],\n        \"semantic_type\": \"\",\n        \"description\": \"\"\n      }\n    },\n    {\n      \"column\": \"State\",\n      \"properties\": {\n        \"dtype\": \"category\",\n        \"num_unique_values\": 4,\n        \"samples\": [\n          \"BC\",\n          \"MD\",\n          \"WA\"\n        ],\n        \"semantic_type\": \"\",\n        \"description\": \"\"\n      }\n    },\n    {\n      \"column\": \"Postal Code\",\n      \"properties\": {\n        \"dtype\": \"number\",\n        \"std\": 536.469157981208,\n        \"min\": 20814.0,\n        \"max\": 99403.0,\n        \"num_unique_values\": 359,\n        \"samples\": [\n          99350.0,\n          98340.0,\n          98232.0\n        ],\n        \"semantic_type\": \"\",\n        \"description\": \"\"\n      }\n    },\n    {\n      \"column\": \"Model Year\",\n      \"properties\": {\n        \"dtype\": \"number\",\n        \"std\": 2,\n        \"min\": 2000,\n        \"max\": 2025,\n        \"num_unique_values\": 18,\n        \"samples\": [\n          2024,\n          2016,\n          2018\n        ],\n        \"semantic_type\": \"\",\n        \"description\": \"\"\n      }\n    },\n    {\n      \"column\": \"Make\",\n      \"properties\": {\n        \"dtype\": \"category\",\n        \"num_unique_values\": 39,\n        \"samples\": [\n          \"DODGE\",\n          \"BENTLEY\",\n          \"BMW\"\n        ],\n        \"semantic_type\": \"\",\n        \"description\": \"\"\n      }\n    },\n    {\n      \"column\": \"Model\",\n      \"properties\": {\n        \"dtype\": \"category\",\n        \"num_unique_values\": 141,\n        \"samples\": [\n          \"XC40\",\n          \"SQ8\",\n          \"MUSTANG MACH-E\"\n        ],\n        \"semantic_type\": \"\",\n        \"description\": \"\"\n      }\n    },\n    {\n      \"column\": \"Electric Vehicle Type\",\n      \"properties\": {\n        \"dtype\": \"category\",\n        \"num_unique_values\": 2,\n        \"samples\": [\n          \"Battery Electric Vehicle (BEV)\",\n          \"Plug-in Hybrid Electric Vehicle (PHEV)\"\n        ],\n        \"semantic_type\": \"\",\n        \"description\": \"\"\n      }\n    },\n    {\n      \"column\": \"Clean Alternative Fuel Vehicle (CAFV) Eligibility\",\n      \"properties\": {\n        \"dtype\": \"category\",\n        \"num_unique_values\": 3,\n        \"samples\": [\n          \"Not eligible due to low battery range\",\n          \"Clean Alternative Fuel Vehicle Eligible\"\n        ],\n        \"semantic_type\": \"\",\n        \"description\": \"\"\n      }\n    },\n    {\n      \"column\": \"Electric Range\",\n      \"properties\": {\n        \"dtype\": \"number\",\n        \"std\": 89,\n        \"min\": 0,\n        \"max\": 337,\n        \"num_unique_values\": 100,\n        \"samples\": [\n          24,\n          32\n        ],\n        \"semantic_type\": \"\",\n        \"description\": \"\"\n      }\n    },\n    {\n      \"column\": \"Base MSRP\",\n      \"properties\": {\n        \"dtype\": \"number\",\n        \"std\": 7794,\n        \"min\": 0,\n        \"max\": 184400,\n        \"num_unique_values\": 29,\n        \"samples\": [\n          109000,\n          34995\n        ],\n        \"semantic_type\": \"\",\n        \"description\": \"\"\n      }\n    },\n    {\n      \"column\": \"Legislative District\",\n      \"properties\": {\n        \"dtype\": \"number\",\n        \"std\": 14.757782968431387,\n        \"min\": 1.0,\n        \"max\": 49.0,\n        \"num_unique_values\": 49,\n        \"samples\": [\n          7.0,\n          4.0\n        ],\n        \"semantic_type\": \"\",\n        \"description\": \"\"\n      }\n    },\n    {\n      \"column\": \"DOL Vehicle ID\",\n      \"properties\": {\n        \"dtype\": \"number\",\n        \"std\": 73332464,\n        \"min\": 4469,\n        \"max\": 478925947,\n        \"num_unique_values\": 50000,\n        \"samples\": [\n          101894761,\n          254371421\n        ],\n        \"semantic_type\": \"\",\n        \"description\": \"\"\n      }\n    },\n    {\n      \"column\": \"Vehicle Location\",\n      \"properties\": {\n        \"dtype\": \"category\",\n        \"num_unique_values\": 358,\n        \"samples\": [\n          \"POINT (-122.4445098 47.2002928)\",\n          \"POINT (-122.5638082 47.8995458)\"\n        ],\n        \"semantic_type\": \"\",\n        \"description\": \"\"\n      }\n    },\n    {\n      \"column\": \"Electric Utility\",\n      \"properties\": {\n        \"dtype\": \"category\",\n        \"num_unique_values\": 64,\n        \"samples\": [\n          \"BONNEVILLE POWER ADMINISTRATION||BENTON RURAL ELECTRIC ASSN\",\n          \"CITY OF CHENEY - (WA)\"\n        ],\n        \"semantic_type\": \"\",\n        \"description\": \"\"\n      }\n    },\n    {\n      \"column\": \"2020 Census Tract\",\n      \"properties\": {\n        \"dtype\": \"number\",\n        \"std\": 279217837.6502856,\n        \"min\": 6041111002.0,\n        \"max\": 53077940008.0,\n        \"num_unique_values\": 1378,\n        \"samples\": [\n          53033007406.0,\n          53061052105.0\n        ],\n        \"semantic_type\": \"\",\n        \"description\": \"\"\n      }\n    },\n    {\n      \"column\": \"Unnamed: 17\",\n      \"properties\": {\n        \"dtype\": \"number\",\n        \"std\": 14433,\n        \"min\": 1,\n        \"max\": 50000,\n        \"num_unique_values\": 50000,\n        \"samples\": [\n          33554,\n          9428\n        ],\n        \"semantic_type\": \"\",\n        \"description\": \"\"\n      }\n    }\n  ]\n}"
            }
          },
          "metadata": {},
          "execution_count": 6
        }
      ]
    },
    {
      "cell_type": "code",
      "source": [
        "df.info()"
      ],
      "metadata": {
        "colab": {
          "base_uri": "https://localhost:8080/"
        },
        "id": "n6_RCb4noq3S",
        "outputId": "2bd3e2f3-9366-43ce-a6f6-d3f86ed17864"
      },
      "execution_count": 7,
      "outputs": [
        {
          "output_type": "stream",
          "name": "stdout",
          "text": [
            "<class 'pandas.core.frame.DataFrame'>\n",
            "RangeIndex: 50000 entries, 0 to 49999\n",
            "Data columns (total 18 columns):\n",
            " #   Column                                             Non-Null Count  Dtype  \n",
            "---  ------                                             --------------  -----  \n",
            " 0   VIN (1-10)                                         50000 non-null  object \n",
            " 1   County                                             49999 non-null  object \n",
            " 2   City                                               49999 non-null  object \n",
            " 3   State                                              50000 non-null  object \n",
            " 4   Postal Code                                        49999 non-null  float64\n",
            " 5   Model Year                                         50000 non-null  int64  \n",
            " 6   Make                                               50000 non-null  object \n",
            " 7   Model                                              50000 non-null  object \n",
            " 8   Electric Vehicle Type                              50000 non-null  object \n",
            " 9   Clean Alternative Fuel Vehicle (CAFV) Eligibility  50000 non-null  object \n",
            " 10  Electric Range                                     50000 non-null  int64  \n",
            " 11  Base MSRP                                          50000 non-null  int64  \n",
            " 12  Legislative District                               49996 non-null  float64\n",
            " 13  DOL Vehicle ID                                     50000 non-null  int64  \n",
            " 14  Vehicle Location                                   49998 non-null  object \n",
            " 15  Electric Utility                                   49999 non-null  object \n",
            " 16  2020 Census Tract                                  49999 non-null  float64\n",
            " 17  Unnamed: 17                                        50000 non-null  int64  \n",
            "dtypes: float64(3), int64(5), object(10)\n",
            "memory usage: 6.9+ MB\n"
          ]
        }
      ]
    },
    {
      "cell_type": "code",
      "source": [
        "#check if there is and how many null values are there in each column\n",
        "df.isnull().sum()"
      ],
      "metadata": {
        "colab": {
          "base_uri": "https://localhost:8080/",
          "height": 648
        },
        "id": "P1UZTMkJpV2l",
        "outputId": "ba33ab4f-6399-4195-e19b-f17b15407607"
      },
      "execution_count": 8,
      "outputs": [
        {
          "output_type": "execute_result",
          "data": {
            "text/plain": [
              "VIN (1-10)                                           0\n",
              "County                                               1\n",
              "City                                                 1\n",
              "State                                                0\n",
              "Postal Code                                          1\n",
              "Model Year                                           0\n",
              "Make                                                 0\n",
              "Model                                                0\n",
              "Electric Vehicle Type                                0\n",
              "Clean Alternative Fuel Vehicle (CAFV) Eligibility    0\n",
              "Electric Range                                       0\n",
              "Base MSRP                                            0\n",
              "Legislative District                                 4\n",
              "DOL Vehicle ID                                       0\n",
              "Vehicle Location                                     2\n",
              "Electric Utility                                     1\n",
              "2020 Census Tract                                    1\n",
              "Unnamed: 17                                          0\n",
              "dtype: int64"
            ],
            "text/html": [
              "<div>\n",
              "<style scoped>\n",
              "    .dataframe tbody tr th:only-of-type {\n",
              "        vertical-align: middle;\n",
              "    }\n",
              "\n",
              "    .dataframe tbody tr th {\n",
              "        vertical-align: top;\n",
              "    }\n",
              "\n",
              "    .dataframe thead th {\n",
              "        text-align: right;\n",
              "    }\n",
              "</style>\n",
              "<table border=\"1\" class=\"dataframe\">\n",
              "  <thead>\n",
              "    <tr style=\"text-align: right;\">\n",
              "      <th></th>\n",
              "      <th>0</th>\n",
              "    </tr>\n",
              "  </thead>\n",
              "  <tbody>\n",
              "    <tr>\n",
              "      <th>VIN (1-10)</th>\n",
              "      <td>0</td>\n",
              "    </tr>\n",
              "    <tr>\n",
              "      <th>County</th>\n",
              "      <td>1</td>\n",
              "    </tr>\n",
              "    <tr>\n",
              "      <th>City</th>\n",
              "      <td>1</td>\n",
              "    </tr>\n",
              "    <tr>\n",
              "      <th>State</th>\n",
              "      <td>0</td>\n",
              "    </tr>\n",
              "    <tr>\n",
              "      <th>Postal Code</th>\n",
              "      <td>1</td>\n",
              "    </tr>\n",
              "    <tr>\n",
              "      <th>Model Year</th>\n",
              "      <td>0</td>\n",
              "    </tr>\n",
              "    <tr>\n",
              "      <th>Make</th>\n",
              "      <td>0</td>\n",
              "    </tr>\n",
              "    <tr>\n",
              "      <th>Model</th>\n",
              "      <td>0</td>\n",
              "    </tr>\n",
              "    <tr>\n",
              "      <th>Electric Vehicle Type</th>\n",
              "      <td>0</td>\n",
              "    </tr>\n",
              "    <tr>\n",
              "      <th>Clean Alternative Fuel Vehicle (CAFV) Eligibility</th>\n",
              "      <td>0</td>\n",
              "    </tr>\n",
              "    <tr>\n",
              "      <th>Electric Range</th>\n",
              "      <td>0</td>\n",
              "    </tr>\n",
              "    <tr>\n",
              "      <th>Base MSRP</th>\n",
              "      <td>0</td>\n",
              "    </tr>\n",
              "    <tr>\n",
              "      <th>Legislative District</th>\n",
              "      <td>4</td>\n",
              "    </tr>\n",
              "    <tr>\n",
              "      <th>DOL Vehicle ID</th>\n",
              "      <td>0</td>\n",
              "    </tr>\n",
              "    <tr>\n",
              "      <th>Vehicle Location</th>\n",
              "      <td>2</td>\n",
              "    </tr>\n",
              "    <tr>\n",
              "      <th>Electric Utility</th>\n",
              "      <td>1</td>\n",
              "    </tr>\n",
              "    <tr>\n",
              "      <th>2020 Census Tract</th>\n",
              "      <td>1</td>\n",
              "    </tr>\n",
              "    <tr>\n",
              "      <th>Unnamed: 17</th>\n",
              "      <td>0</td>\n",
              "    </tr>\n",
              "  </tbody>\n",
              "</table>\n",
              "</div><br><label><b>dtype:</b> int64</label>"
            ]
          },
          "metadata": {},
          "execution_count": 8
        }
      ]
    },
    {
      "cell_type": "code",
      "source": [
        "#deleting an unnamed column\n",
        "df.drop('Unnamed: 17', axis=1, inplace=True)"
      ],
      "metadata": {
        "id": "mQ-6znkOwH9Z"
      },
      "execution_count": 9,
      "outputs": []
    },
    {
      "cell_type": "code",
      "source": [
        "#updated dataframe\n",
        "df.head()"
      ],
      "metadata": {
        "colab": {
          "base_uri": "https://localhost:8080/",
          "height": 729
        },
        "id": "dOZ1HdXU5ksF",
        "outputId": "68a3bb61-32b6-4266-ffd0-ddf00d58f092"
      },
      "execution_count": 10,
      "outputs": [
        {
          "output_type": "execute_result",
          "data": {
            "text/plain": [
              "   VIN (1-10)     County          City State  Postal Code  Model Year  \\\n",
              "0  1C4RJXN66R  Snohomish       Everett    WA      98204.0        2024   \n",
              "1  KNDJX3AEXG       King        Renton    WA      98058.0        2016   \n",
              "2  5YJ3E1EA3L       King       Seattle    WA      98125.0        2020   \n",
              "3  1G1RC6S5XH     Kitsap  Port Orchard    WA      98367.0        2017   \n",
              "4  5UXTA6C09P  Snohomish        Monroe    WA      98272.0        2023   \n",
              "\n",
              "        Make     Model                   Electric Vehicle Type  \\\n",
              "0       JEEP  WRANGLER  Plug-in Hybrid Electric Vehicle (PHEV)   \n",
              "1        KIA      SOUL          Battery Electric Vehicle (BEV)   \n",
              "2      TESLA   MODEL 3          Battery Electric Vehicle (BEV)   \n",
              "3  CHEVROLET      VOLT  Plug-in Hybrid Electric Vehicle (PHEV)   \n",
              "4        BMW        X5  Plug-in Hybrid Electric Vehicle (PHEV)   \n",
              "\n",
              "  Clean Alternative Fuel Vehicle (CAFV) Eligibility  Electric Range  \\\n",
              "0             Not eligible due to low battery range              21   \n",
              "1           Clean Alternative Fuel Vehicle Eligible              93   \n",
              "2           Clean Alternative Fuel Vehicle Eligible             266   \n",
              "3           Clean Alternative Fuel Vehicle Eligible              53   \n",
              "4           Clean Alternative Fuel Vehicle Eligible              30   \n",
              "\n",
              "   Base MSRP  Legislative District  DOL Vehicle ID  \\\n",
              "0          0                  21.0       261311557   \n",
              "1      31950                  11.0       210641315   \n",
              "2          0                  46.0       124517347   \n",
              "3          0                  26.0         7832933   \n",
              "4          0                  39.0       235249262   \n",
              "\n",
              "                  Vehicle Location  \\\n",
              "0  POINT (-122.2507211 47.8976713)   \n",
              "1  POINT (-122.1476337 47.4438471)   \n",
              "2    POINT (-122.304356 47.715668)   \n",
              "3  POINT (-122.6530052 47.4739066)   \n",
              "4    POINT (-121.968385 47.854897)   \n",
              "\n",
              "                                Electric Utility  2020 Census Tract  \n",
              "0                         PUGET SOUND ENERGY INC       5.306104e+10  \n",
              "1  PUGET SOUND ENERGY INC||CITY OF TACOMA - (WA)       5.303303e+10  \n",
              "2   CITY OF SEATTLE - (WA)|CITY OF TACOMA - (WA)       5.303300e+10  \n",
              "3                         PUGET SOUND ENERGY INC       5.303509e+10  \n",
              "4                         PUGET SOUND ENERGY INC       5.306105e+10  "
            ],
            "text/html": [
              "\n",
              "  <div id=\"df-f7d6b2c2-dd71-4da3-acd2-5c250932d15f\" class=\"colab-df-container\">\n",
              "    <div>\n",
              "<style scoped>\n",
              "    .dataframe tbody tr th:only-of-type {\n",
              "        vertical-align: middle;\n",
              "    }\n",
              "\n",
              "    .dataframe tbody tr th {\n",
              "        vertical-align: top;\n",
              "    }\n",
              "\n",
              "    .dataframe thead th {\n",
              "        text-align: right;\n",
              "    }\n",
              "</style>\n",
              "<table border=\"1\" class=\"dataframe\">\n",
              "  <thead>\n",
              "    <tr style=\"text-align: right;\">\n",
              "      <th></th>\n",
              "      <th>VIN (1-10)</th>\n",
              "      <th>County</th>\n",
              "      <th>City</th>\n",
              "      <th>State</th>\n",
              "      <th>Postal Code</th>\n",
              "      <th>Model Year</th>\n",
              "      <th>Make</th>\n",
              "      <th>Model</th>\n",
              "      <th>Electric Vehicle Type</th>\n",
              "      <th>Clean Alternative Fuel Vehicle (CAFV) Eligibility</th>\n",
              "      <th>Electric Range</th>\n",
              "      <th>Base MSRP</th>\n",
              "      <th>Legislative District</th>\n",
              "      <th>DOL Vehicle ID</th>\n",
              "      <th>Vehicle Location</th>\n",
              "      <th>Electric Utility</th>\n",
              "      <th>2020 Census Tract</th>\n",
              "    </tr>\n",
              "  </thead>\n",
              "  <tbody>\n",
              "    <tr>\n",
              "      <th>0</th>\n",
              "      <td>1C4RJXN66R</td>\n",
              "      <td>Snohomish</td>\n",
              "      <td>Everett</td>\n",
              "      <td>WA</td>\n",
              "      <td>98204.0</td>\n",
              "      <td>2024</td>\n",
              "      <td>JEEP</td>\n",
              "      <td>WRANGLER</td>\n",
              "      <td>Plug-in Hybrid Electric Vehicle (PHEV)</td>\n",
              "      <td>Not eligible due to low battery range</td>\n",
              "      <td>21</td>\n",
              "      <td>0</td>\n",
              "      <td>21.0</td>\n",
              "      <td>261311557</td>\n",
              "      <td>POINT (-122.2507211 47.8976713)</td>\n",
              "      <td>PUGET SOUND ENERGY INC</td>\n",
              "      <td>5.306104e+10</td>\n",
              "    </tr>\n",
              "    <tr>\n",
              "      <th>1</th>\n",
              "      <td>KNDJX3AEXG</td>\n",
              "      <td>King</td>\n",
              "      <td>Renton</td>\n",
              "      <td>WA</td>\n",
              "      <td>98058.0</td>\n",
              "      <td>2016</td>\n",
              "      <td>KIA</td>\n",
              "      <td>SOUL</td>\n",
              "      <td>Battery Electric Vehicle (BEV)</td>\n",
              "      <td>Clean Alternative Fuel Vehicle Eligible</td>\n",
              "      <td>93</td>\n",
              "      <td>31950</td>\n",
              "      <td>11.0</td>\n",
              "      <td>210641315</td>\n",
              "      <td>POINT (-122.1476337 47.4438471)</td>\n",
              "      <td>PUGET SOUND ENERGY INC||CITY OF TACOMA - (WA)</td>\n",
              "      <td>5.303303e+10</td>\n",
              "    </tr>\n",
              "    <tr>\n",
              "      <th>2</th>\n",
              "      <td>5YJ3E1EA3L</td>\n",
              "      <td>King</td>\n",
              "      <td>Seattle</td>\n",
              "      <td>WA</td>\n",
              "      <td>98125.0</td>\n",
              "      <td>2020</td>\n",
              "      <td>TESLA</td>\n",
              "      <td>MODEL 3</td>\n",
              "      <td>Battery Electric Vehicle (BEV)</td>\n",
              "      <td>Clean Alternative Fuel Vehicle Eligible</td>\n",
              "      <td>266</td>\n",
              "      <td>0</td>\n",
              "      <td>46.0</td>\n",
              "      <td>124517347</td>\n",
              "      <td>POINT (-122.304356 47.715668)</td>\n",
              "      <td>CITY OF SEATTLE - (WA)|CITY OF TACOMA - (WA)</td>\n",
              "      <td>5.303300e+10</td>\n",
              "    </tr>\n",
              "    <tr>\n",
              "      <th>3</th>\n",
              "      <td>1G1RC6S5XH</td>\n",
              "      <td>Kitsap</td>\n",
              "      <td>Port Orchard</td>\n",
              "      <td>WA</td>\n",
              "      <td>98367.0</td>\n",
              "      <td>2017</td>\n",
              "      <td>CHEVROLET</td>\n",
              "      <td>VOLT</td>\n",
              "      <td>Plug-in Hybrid Electric Vehicle (PHEV)</td>\n",
              "      <td>Clean Alternative Fuel Vehicle Eligible</td>\n",
              "      <td>53</td>\n",
              "      <td>0</td>\n",
              "      <td>26.0</td>\n",
              "      <td>7832933</td>\n",
              "      <td>POINT (-122.6530052 47.4739066)</td>\n",
              "      <td>PUGET SOUND ENERGY INC</td>\n",
              "      <td>5.303509e+10</td>\n",
              "    </tr>\n",
              "    <tr>\n",
              "      <th>4</th>\n",
              "      <td>5UXTA6C09P</td>\n",
              "      <td>Snohomish</td>\n",
              "      <td>Monroe</td>\n",
              "      <td>WA</td>\n",
              "      <td>98272.0</td>\n",
              "      <td>2023</td>\n",
              "      <td>BMW</td>\n",
              "      <td>X5</td>\n",
              "      <td>Plug-in Hybrid Electric Vehicle (PHEV)</td>\n",
              "      <td>Clean Alternative Fuel Vehicle Eligible</td>\n",
              "      <td>30</td>\n",
              "      <td>0</td>\n",
              "      <td>39.0</td>\n",
              "      <td>235249262</td>\n",
              "      <td>POINT (-121.968385 47.854897)</td>\n",
              "      <td>PUGET SOUND ENERGY INC</td>\n",
              "      <td>5.306105e+10</td>\n",
              "    </tr>\n",
              "  </tbody>\n",
              "</table>\n",
              "</div>\n",
              "    <div class=\"colab-df-buttons\">\n",
              "\n",
              "  <div class=\"colab-df-container\">\n",
              "    <button class=\"colab-df-convert\" onclick=\"convertToInteractive('df-f7d6b2c2-dd71-4da3-acd2-5c250932d15f')\"\n",
              "            title=\"Convert this dataframe to an interactive table.\"\n",
              "            style=\"display:none;\">\n",
              "\n",
              "  <svg xmlns=\"http://www.w3.org/2000/svg\" height=\"24px\" viewBox=\"0 -960 960 960\">\n",
              "    <path d=\"M120-120v-720h720v720H120Zm60-500h600v-160H180v160Zm220 220h160v-160H400v160Zm0 220h160v-160H400v160ZM180-400h160v-160H180v160Zm440 0h160v-160H620v160ZM180-180h160v-160H180v160Zm440 0h160v-160H620v160Z\"/>\n",
              "  </svg>\n",
              "    </button>\n",
              "\n",
              "  <style>\n",
              "    .colab-df-container {\n",
              "      display:flex;\n",
              "      gap: 12px;\n",
              "    }\n",
              "\n",
              "    .colab-df-convert {\n",
              "      background-color: #E8F0FE;\n",
              "      border: none;\n",
              "      border-radius: 50%;\n",
              "      cursor: pointer;\n",
              "      display: none;\n",
              "      fill: #1967D2;\n",
              "      height: 32px;\n",
              "      padding: 0 0 0 0;\n",
              "      width: 32px;\n",
              "    }\n",
              "\n",
              "    .colab-df-convert:hover {\n",
              "      background-color: #E2EBFA;\n",
              "      box-shadow: 0px 1px 2px rgba(60, 64, 67, 0.3), 0px 1px 3px 1px rgba(60, 64, 67, 0.15);\n",
              "      fill: #174EA6;\n",
              "    }\n",
              "\n",
              "    .colab-df-buttons div {\n",
              "      margin-bottom: 4px;\n",
              "    }\n",
              "\n",
              "    [theme=dark] .colab-df-convert {\n",
              "      background-color: #3B4455;\n",
              "      fill: #D2E3FC;\n",
              "    }\n",
              "\n",
              "    [theme=dark] .colab-df-convert:hover {\n",
              "      background-color: #434B5C;\n",
              "      box-shadow: 0px 1px 3px 1px rgba(0, 0, 0, 0.15);\n",
              "      filter: drop-shadow(0px 1px 2px rgba(0, 0, 0, 0.3));\n",
              "      fill: #FFFFFF;\n",
              "    }\n",
              "  </style>\n",
              "\n",
              "    <script>\n",
              "      const buttonEl =\n",
              "        document.querySelector('#df-f7d6b2c2-dd71-4da3-acd2-5c250932d15f button.colab-df-convert');\n",
              "      buttonEl.style.display =\n",
              "        google.colab.kernel.accessAllowed ? 'block' : 'none';\n",
              "\n",
              "      async function convertToInteractive(key) {\n",
              "        const element = document.querySelector('#df-f7d6b2c2-dd71-4da3-acd2-5c250932d15f');\n",
              "        const dataTable =\n",
              "          await google.colab.kernel.invokeFunction('convertToInteractive',\n",
              "                                                    [key], {});\n",
              "        if (!dataTable) return;\n",
              "\n",
              "        const docLinkHtml = 'Like what you see? Visit the ' +\n",
              "          '<a target=\"_blank\" href=https://colab.research.google.com/notebooks/data_table.ipynb>data table notebook</a>'\n",
              "          + ' to learn more about interactive tables.';\n",
              "        element.innerHTML = '';\n",
              "        dataTable['output_type'] = 'display_data';\n",
              "        await google.colab.output.renderOutput(dataTable, element);\n",
              "        const docLink = document.createElement('div');\n",
              "        docLink.innerHTML = docLinkHtml;\n",
              "        element.appendChild(docLink);\n",
              "      }\n",
              "    </script>\n",
              "  </div>\n",
              "\n",
              "\n",
              "<div id=\"df-1bd0cedd-d813-442a-9596-8cb59f67e2fa\">\n",
              "  <button class=\"colab-df-quickchart\" onclick=\"quickchart('df-1bd0cedd-d813-442a-9596-8cb59f67e2fa')\"\n",
              "            title=\"Suggest charts\"\n",
              "            style=\"display:none;\">\n",
              "\n",
              "<svg xmlns=\"http://www.w3.org/2000/svg\" height=\"24px\"viewBox=\"0 0 24 24\"\n",
              "     width=\"24px\">\n",
              "    <g>\n",
              "        <path d=\"M19 3H5c-1.1 0-2 .9-2 2v14c0 1.1.9 2 2 2h14c1.1 0 2-.9 2-2V5c0-1.1-.9-2-2-2zM9 17H7v-7h2v7zm4 0h-2V7h2v10zm4 0h-2v-4h2v4z\"/>\n",
              "    </g>\n",
              "</svg>\n",
              "  </button>\n",
              "\n",
              "<style>\n",
              "  .colab-df-quickchart {\n",
              "      --bg-color: #E8F0FE;\n",
              "      --fill-color: #1967D2;\n",
              "      --hover-bg-color: #E2EBFA;\n",
              "      --hover-fill-color: #174EA6;\n",
              "      --disabled-fill-color: #AAA;\n",
              "      --disabled-bg-color: #DDD;\n",
              "  }\n",
              "\n",
              "  [theme=dark] .colab-df-quickchart {\n",
              "      --bg-color: #3B4455;\n",
              "      --fill-color: #D2E3FC;\n",
              "      --hover-bg-color: #434B5C;\n",
              "      --hover-fill-color: #FFFFFF;\n",
              "      --disabled-bg-color: #3B4455;\n",
              "      --disabled-fill-color: #666;\n",
              "  }\n",
              "\n",
              "  .colab-df-quickchart {\n",
              "    background-color: var(--bg-color);\n",
              "    border: none;\n",
              "    border-radius: 50%;\n",
              "    cursor: pointer;\n",
              "    display: none;\n",
              "    fill: var(--fill-color);\n",
              "    height: 32px;\n",
              "    padding: 0;\n",
              "    width: 32px;\n",
              "  }\n",
              "\n",
              "  .colab-df-quickchart:hover {\n",
              "    background-color: var(--hover-bg-color);\n",
              "    box-shadow: 0 1px 2px rgba(60, 64, 67, 0.3), 0 1px 3px 1px rgba(60, 64, 67, 0.15);\n",
              "    fill: var(--button-hover-fill-color);\n",
              "  }\n",
              "\n",
              "  .colab-df-quickchart-complete:disabled,\n",
              "  .colab-df-quickchart-complete:disabled:hover {\n",
              "    background-color: var(--disabled-bg-color);\n",
              "    fill: var(--disabled-fill-color);\n",
              "    box-shadow: none;\n",
              "  }\n",
              "\n",
              "  .colab-df-spinner {\n",
              "    border: 2px solid var(--fill-color);\n",
              "    border-color: transparent;\n",
              "    border-bottom-color: var(--fill-color);\n",
              "    animation:\n",
              "      spin 1s steps(1) infinite;\n",
              "  }\n",
              "\n",
              "  @keyframes spin {\n",
              "    0% {\n",
              "      border-color: transparent;\n",
              "      border-bottom-color: var(--fill-color);\n",
              "      border-left-color: var(--fill-color);\n",
              "    }\n",
              "    20% {\n",
              "      border-color: transparent;\n",
              "      border-left-color: var(--fill-color);\n",
              "      border-top-color: var(--fill-color);\n",
              "    }\n",
              "    30% {\n",
              "      border-color: transparent;\n",
              "      border-left-color: var(--fill-color);\n",
              "      border-top-color: var(--fill-color);\n",
              "      border-right-color: var(--fill-color);\n",
              "    }\n",
              "    40% {\n",
              "      border-color: transparent;\n",
              "      border-right-color: var(--fill-color);\n",
              "      border-top-color: var(--fill-color);\n",
              "    }\n",
              "    60% {\n",
              "      border-color: transparent;\n",
              "      border-right-color: var(--fill-color);\n",
              "    }\n",
              "    80% {\n",
              "      border-color: transparent;\n",
              "      border-right-color: var(--fill-color);\n",
              "      border-bottom-color: var(--fill-color);\n",
              "    }\n",
              "    90% {\n",
              "      border-color: transparent;\n",
              "      border-bottom-color: var(--fill-color);\n",
              "    }\n",
              "  }\n",
              "</style>\n",
              "\n",
              "  <script>\n",
              "    async function quickchart(key) {\n",
              "      const quickchartButtonEl =\n",
              "        document.querySelector('#' + key + ' button');\n",
              "      quickchartButtonEl.disabled = true;  // To prevent multiple clicks.\n",
              "      quickchartButtonEl.classList.add('colab-df-spinner');\n",
              "      try {\n",
              "        const charts = await google.colab.kernel.invokeFunction(\n",
              "            'suggestCharts', [key], {});\n",
              "      } catch (error) {\n",
              "        console.error('Error during call to suggestCharts:', error);\n",
              "      }\n",
              "      quickchartButtonEl.classList.remove('colab-df-spinner');\n",
              "      quickchartButtonEl.classList.add('colab-df-quickchart-complete');\n",
              "    }\n",
              "    (() => {\n",
              "      let quickchartButtonEl =\n",
              "        document.querySelector('#df-1bd0cedd-d813-442a-9596-8cb59f67e2fa button');\n",
              "      quickchartButtonEl.style.display =\n",
              "        google.colab.kernel.accessAllowed ? 'block' : 'none';\n",
              "    })();\n",
              "  </script>\n",
              "</div>\n",
              "\n",
              "    </div>\n",
              "  </div>\n"
            ],
            "application/vnd.google.colaboratory.intrinsic+json": {
              "type": "dataframe",
              "variable_name": "df",
              "summary": "{\n  \"name\": \"df\",\n  \"rows\": 50000,\n  \"fields\": [\n    {\n      \"column\": \"VIN (1-10)\",\n      \"properties\": {\n        \"dtype\": \"category\",\n        \"num_unique_values\": 8097,\n        \"samples\": [\n          \"1V2BMPE8XR\",\n          \"1FTVW1BK8R\",\n          \"1G1RB6E42E\"\n        ],\n        \"semantic_type\": \"\",\n        \"description\": \"\"\n      }\n    },\n    {\n      \"column\": \"County\",\n      \"properties\": {\n        \"dtype\": \"category\",\n        \"num_unique_values\": 39,\n        \"samples\": [\n          \"San Juan\",\n          \"Pacific\",\n          \"Thurston\"\n        ],\n        \"semantic_type\": \"\",\n        \"description\": \"\"\n      }\n    },\n    {\n      \"column\": \"City\",\n      \"properties\": {\n        \"dtype\": \"category\",\n        \"num_unique_values\": 266,\n        \"samples\": [\n          \"Ryderwood\",\n          \"Outlook\",\n          \"Shelton\"\n        ],\n        \"semantic_type\": \"\",\n        \"description\": \"\"\n      }\n    },\n    {\n      \"column\": \"State\",\n      \"properties\": {\n        \"dtype\": \"category\",\n        \"num_unique_values\": 4,\n        \"samples\": [\n          \"BC\",\n          \"MD\",\n          \"WA\"\n        ],\n        \"semantic_type\": \"\",\n        \"description\": \"\"\n      }\n    },\n    {\n      \"column\": \"Postal Code\",\n      \"properties\": {\n        \"dtype\": \"number\",\n        \"std\": 536.469157981208,\n        \"min\": 20814.0,\n        \"max\": 99403.0,\n        \"num_unique_values\": 359,\n        \"samples\": [\n          99350.0,\n          98340.0,\n          98232.0\n        ],\n        \"semantic_type\": \"\",\n        \"description\": \"\"\n      }\n    },\n    {\n      \"column\": \"Model Year\",\n      \"properties\": {\n        \"dtype\": \"number\",\n        \"std\": 2,\n        \"min\": 2000,\n        \"max\": 2025,\n        \"num_unique_values\": 18,\n        \"samples\": [\n          2024,\n          2016,\n          2018\n        ],\n        \"semantic_type\": \"\",\n        \"description\": \"\"\n      }\n    },\n    {\n      \"column\": \"Make\",\n      \"properties\": {\n        \"dtype\": \"category\",\n        \"num_unique_values\": 39,\n        \"samples\": [\n          \"DODGE\",\n          \"BENTLEY\",\n          \"BMW\"\n        ],\n        \"semantic_type\": \"\",\n        \"description\": \"\"\n      }\n    },\n    {\n      \"column\": \"Model\",\n      \"properties\": {\n        \"dtype\": \"category\",\n        \"num_unique_values\": 141,\n        \"samples\": [\n          \"XC40\",\n          \"SQ8\",\n          \"MUSTANG MACH-E\"\n        ],\n        \"semantic_type\": \"\",\n        \"description\": \"\"\n      }\n    },\n    {\n      \"column\": \"Electric Vehicle Type\",\n      \"properties\": {\n        \"dtype\": \"category\",\n        \"num_unique_values\": 2,\n        \"samples\": [\n          \"Battery Electric Vehicle (BEV)\",\n          \"Plug-in Hybrid Electric Vehicle (PHEV)\"\n        ],\n        \"semantic_type\": \"\",\n        \"description\": \"\"\n      }\n    },\n    {\n      \"column\": \"Clean Alternative Fuel Vehicle (CAFV) Eligibility\",\n      \"properties\": {\n        \"dtype\": \"category\",\n        \"num_unique_values\": 3,\n        \"samples\": [\n          \"Not eligible due to low battery range\",\n          \"Clean Alternative Fuel Vehicle Eligible\"\n        ],\n        \"semantic_type\": \"\",\n        \"description\": \"\"\n      }\n    },\n    {\n      \"column\": \"Electric Range\",\n      \"properties\": {\n        \"dtype\": \"number\",\n        \"std\": 89,\n        \"min\": 0,\n        \"max\": 337,\n        \"num_unique_values\": 100,\n        \"samples\": [\n          24,\n          32\n        ],\n        \"semantic_type\": \"\",\n        \"description\": \"\"\n      }\n    },\n    {\n      \"column\": \"Base MSRP\",\n      \"properties\": {\n        \"dtype\": \"number\",\n        \"std\": 7794,\n        \"min\": 0,\n        \"max\": 184400,\n        \"num_unique_values\": 29,\n        \"samples\": [\n          109000,\n          34995\n        ],\n        \"semantic_type\": \"\",\n        \"description\": \"\"\n      }\n    },\n    {\n      \"column\": \"Legislative District\",\n      \"properties\": {\n        \"dtype\": \"number\",\n        \"std\": 14.757782968431387,\n        \"min\": 1.0,\n        \"max\": 49.0,\n        \"num_unique_values\": 49,\n        \"samples\": [\n          7.0,\n          4.0\n        ],\n        \"semantic_type\": \"\",\n        \"description\": \"\"\n      }\n    },\n    {\n      \"column\": \"DOL Vehicle ID\",\n      \"properties\": {\n        \"dtype\": \"number\",\n        \"std\": 73332464,\n        \"min\": 4469,\n        \"max\": 478925947,\n        \"num_unique_values\": 50000,\n        \"samples\": [\n          101894761,\n          254371421\n        ],\n        \"semantic_type\": \"\",\n        \"description\": \"\"\n      }\n    },\n    {\n      \"column\": \"Vehicle Location\",\n      \"properties\": {\n        \"dtype\": \"category\",\n        \"num_unique_values\": 358,\n        \"samples\": [\n          \"POINT (-122.4445098 47.2002928)\",\n          \"POINT (-122.5638082 47.8995458)\"\n        ],\n        \"semantic_type\": \"\",\n        \"description\": \"\"\n      }\n    },\n    {\n      \"column\": \"Electric Utility\",\n      \"properties\": {\n        \"dtype\": \"category\",\n        \"num_unique_values\": 64,\n        \"samples\": [\n          \"BONNEVILLE POWER ADMINISTRATION||BENTON RURAL ELECTRIC ASSN\",\n          \"CITY OF CHENEY - (WA)\"\n        ],\n        \"semantic_type\": \"\",\n        \"description\": \"\"\n      }\n    },\n    {\n      \"column\": \"2020 Census Tract\",\n      \"properties\": {\n        \"dtype\": \"number\",\n        \"std\": 279217837.6502856,\n        \"min\": 6041111002.0,\n        \"max\": 53077940008.0,\n        \"num_unique_values\": 1378,\n        \"samples\": [\n          53033007406.0,\n          53061052105.0\n        ],\n        \"semantic_type\": \"\",\n        \"description\": \"\"\n      }\n    }\n  ]\n}"
            }
          },
          "metadata": {},
          "execution_count": 10
        }
      ]
    },
    {
      "cell_type": "code",
      "source": [
        "#checking the stats of the data and observe if there is any outlier\n",
        "df.describe()"
      ],
      "metadata": {
        "colab": {
          "base_uri": "https://localhost:8080/",
          "height": 337
        },
        "id": "kc3AONNg5nQp",
        "outputId": "19139fd9-bebd-4225-92d5-58d13d9cb9f7"
      },
      "execution_count": 11,
      "outputs": [
        {
          "output_type": "execute_result",
          "data": {
            "text/plain": [
              "        Postal Code    Model Year  Electric Range      Base MSRP  \\\n",
              "count  49999.000000  50000.000000    50000.000000   50000.000000   \n",
              "mean   98178.954379   2020.881480       54.425580     956.748400   \n",
              "std      536.469158      2.931335       89.411085    7794.677314   \n",
              "min    20814.000000   2000.000000        0.000000       0.000000   \n",
              "25%    98034.000000   2019.000000        0.000000       0.000000   \n",
              "50%    98109.000000   2022.000000        0.000000       0.000000   \n",
              "75%    98188.000000   2023.000000       53.000000       0.000000   \n",
              "max    99403.000000   2025.000000      337.000000  184400.000000   \n",
              "\n",
              "       Legislative District  DOL Vehicle ID  2020 Census Tract  \n",
              "count          49996.000000    5.000000e+04       4.999900e+04  \n",
              "mean              31.644232    2.252927e+08       5.303193e+10  \n",
              "std               14.757783    7.333246e+07       2.792178e+08  \n",
              "min                1.000000    4.469000e+03       6.041111e+09  \n",
              "25%               18.000000    1.899449e+08       5.303301e+10  \n",
              "50%               36.000000    2.352380e+08       5.303302e+10  \n",
              "75%               45.000000    2.598397e+08       5.303303e+10  \n",
              "max               49.000000    4.789259e+08       5.307794e+10  "
            ],
            "text/html": [
              "\n",
              "  <div id=\"df-72da11a8-9874-425b-b235-2b115d0a3361\" class=\"colab-df-container\">\n",
              "    <div>\n",
              "<style scoped>\n",
              "    .dataframe tbody tr th:only-of-type {\n",
              "        vertical-align: middle;\n",
              "    }\n",
              "\n",
              "    .dataframe tbody tr th {\n",
              "        vertical-align: top;\n",
              "    }\n",
              "\n",
              "    .dataframe thead th {\n",
              "        text-align: right;\n",
              "    }\n",
              "</style>\n",
              "<table border=\"1\" class=\"dataframe\">\n",
              "  <thead>\n",
              "    <tr style=\"text-align: right;\">\n",
              "      <th></th>\n",
              "      <th>Postal Code</th>\n",
              "      <th>Model Year</th>\n",
              "      <th>Electric Range</th>\n",
              "      <th>Base MSRP</th>\n",
              "      <th>Legislative District</th>\n",
              "      <th>DOL Vehicle ID</th>\n",
              "      <th>2020 Census Tract</th>\n",
              "    </tr>\n",
              "  </thead>\n",
              "  <tbody>\n",
              "    <tr>\n",
              "      <th>count</th>\n",
              "      <td>49999.000000</td>\n",
              "      <td>50000.000000</td>\n",
              "      <td>50000.000000</td>\n",
              "      <td>50000.000000</td>\n",
              "      <td>49996.000000</td>\n",
              "      <td>5.000000e+04</td>\n",
              "      <td>4.999900e+04</td>\n",
              "    </tr>\n",
              "    <tr>\n",
              "      <th>mean</th>\n",
              "      <td>98178.954379</td>\n",
              "      <td>2020.881480</td>\n",
              "      <td>54.425580</td>\n",
              "      <td>956.748400</td>\n",
              "      <td>31.644232</td>\n",
              "      <td>2.252927e+08</td>\n",
              "      <td>5.303193e+10</td>\n",
              "    </tr>\n",
              "    <tr>\n",
              "      <th>std</th>\n",
              "      <td>536.469158</td>\n",
              "      <td>2.931335</td>\n",
              "      <td>89.411085</td>\n",
              "      <td>7794.677314</td>\n",
              "      <td>14.757783</td>\n",
              "      <td>7.333246e+07</td>\n",
              "      <td>2.792178e+08</td>\n",
              "    </tr>\n",
              "    <tr>\n",
              "      <th>min</th>\n",
              "      <td>20814.000000</td>\n",
              "      <td>2000.000000</td>\n",
              "      <td>0.000000</td>\n",
              "      <td>0.000000</td>\n",
              "      <td>1.000000</td>\n",
              "      <td>4.469000e+03</td>\n",
              "      <td>6.041111e+09</td>\n",
              "    </tr>\n",
              "    <tr>\n",
              "      <th>25%</th>\n",
              "      <td>98034.000000</td>\n",
              "      <td>2019.000000</td>\n",
              "      <td>0.000000</td>\n",
              "      <td>0.000000</td>\n",
              "      <td>18.000000</td>\n",
              "      <td>1.899449e+08</td>\n",
              "      <td>5.303301e+10</td>\n",
              "    </tr>\n",
              "    <tr>\n",
              "      <th>50%</th>\n",
              "      <td>98109.000000</td>\n",
              "      <td>2022.000000</td>\n",
              "      <td>0.000000</td>\n",
              "      <td>0.000000</td>\n",
              "      <td>36.000000</td>\n",
              "      <td>2.352380e+08</td>\n",
              "      <td>5.303302e+10</td>\n",
              "    </tr>\n",
              "    <tr>\n",
              "      <th>75%</th>\n",
              "      <td>98188.000000</td>\n",
              "      <td>2023.000000</td>\n",
              "      <td>53.000000</td>\n",
              "      <td>0.000000</td>\n",
              "      <td>45.000000</td>\n",
              "      <td>2.598397e+08</td>\n",
              "      <td>5.303303e+10</td>\n",
              "    </tr>\n",
              "    <tr>\n",
              "      <th>max</th>\n",
              "      <td>99403.000000</td>\n",
              "      <td>2025.000000</td>\n",
              "      <td>337.000000</td>\n",
              "      <td>184400.000000</td>\n",
              "      <td>49.000000</td>\n",
              "      <td>4.789259e+08</td>\n",
              "      <td>5.307794e+10</td>\n",
              "    </tr>\n",
              "  </tbody>\n",
              "</table>\n",
              "</div>\n",
              "    <div class=\"colab-df-buttons\">\n",
              "\n",
              "  <div class=\"colab-df-container\">\n",
              "    <button class=\"colab-df-convert\" onclick=\"convertToInteractive('df-72da11a8-9874-425b-b235-2b115d0a3361')\"\n",
              "            title=\"Convert this dataframe to an interactive table.\"\n",
              "            style=\"display:none;\">\n",
              "\n",
              "  <svg xmlns=\"http://www.w3.org/2000/svg\" height=\"24px\" viewBox=\"0 -960 960 960\">\n",
              "    <path d=\"M120-120v-720h720v720H120Zm60-500h600v-160H180v160Zm220 220h160v-160H400v160Zm0 220h160v-160H400v160ZM180-400h160v-160H180v160Zm440 0h160v-160H620v160ZM180-180h160v-160H180v160Zm440 0h160v-160H620v160Z\"/>\n",
              "  </svg>\n",
              "    </button>\n",
              "\n",
              "  <style>\n",
              "    .colab-df-container {\n",
              "      display:flex;\n",
              "      gap: 12px;\n",
              "    }\n",
              "\n",
              "    .colab-df-convert {\n",
              "      background-color: #E8F0FE;\n",
              "      border: none;\n",
              "      border-radius: 50%;\n",
              "      cursor: pointer;\n",
              "      display: none;\n",
              "      fill: #1967D2;\n",
              "      height: 32px;\n",
              "      padding: 0 0 0 0;\n",
              "      width: 32px;\n",
              "    }\n",
              "\n",
              "    .colab-df-convert:hover {\n",
              "      background-color: #E2EBFA;\n",
              "      box-shadow: 0px 1px 2px rgba(60, 64, 67, 0.3), 0px 1px 3px 1px rgba(60, 64, 67, 0.15);\n",
              "      fill: #174EA6;\n",
              "    }\n",
              "\n",
              "    .colab-df-buttons div {\n",
              "      margin-bottom: 4px;\n",
              "    }\n",
              "\n",
              "    [theme=dark] .colab-df-convert {\n",
              "      background-color: #3B4455;\n",
              "      fill: #D2E3FC;\n",
              "    }\n",
              "\n",
              "    [theme=dark] .colab-df-convert:hover {\n",
              "      background-color: #434B5C;\n",
              "      box-shadow: 0px 1px 3px 1px rgba(0, 0, 0, 0.15);\n",
              "      filter: drop-shadow(0px 1px 2px rgba(0, 0, 0, 0.3));\n",
              "      fill: #FFFFFF;\n",
              "    }\n",
              "  </style>\n",
              "\n",
              "    <script>\n",
              "      const buttonEl =\n",
              "        document.querySelector('#df-72da11a8-9874-425b-b235-2b115d0a3361 button.colab-df-convert');\n",
              "      buttonEl.style.display =\n",
              "        google.colab.kernel.accessAllowed ? 'block' : 'none';\n",
              "\n",
              "      async function convertToInteractive(key) {\n",
              "        const element = document.querySelector('#df-72da11a8-9874-425b-b235-2b115d0a3361');\n",
              "        const dataTable =\n",
              "          await google.colab.kernel.invokeFunction('convertToInteractive',\n",
              "                                                    [key], {});\n",
              "        if (!dataTable) return;\n",
              "\n",
              "        const docLinkHtml = 'Like what you see? Visit the ' +\n",
              "          '<a target=\"_blank\" href=https://colab.research.google.com/notebooks/data_table.ipynb>data table notebook</a>'\n",
              "          + ' to learn more about interactive tables.';\n",
              "        element.innerHTML = '';\n",
              "        dataTable['output_type'] = 'display_data';\n",
              "        await google.colab.output.renderOutput(dataTable, element);\n",
              "        const docLink = document.createElement('div');\n",
              "        docLink.innerHTML = docLinkHtml;\n",
              "        element.appendChild(docLink);\n",
              "      }\n",
              "    </script>\n",
              "  </div>\n",
              "\n",
              "\n",
              "<div id=\"df-c59a7dd0-fd94-4731-bd6f-8bde6187cbb3\">\n",
              "  <button class=\"colab-df-quickchart\" onclick=\"quickchart('df-c59a7dd0-fd94-4731-bd6f-8bde6187cbb3')\"\n",
              "            title=\"Suggest charts\"\n",
              "            style=\"display:none;\">\n",
              "\n",
              "<svg xmlns=\"http://www.w3.org/2000/svg\" height=\"24px\"viewBox=\"0 0 24 24\"\n",
              "     width=\"24px\">\n",
              "    <g>\n",
              "        <path d=\"M19 3H5c-1.1 0-2 .9-2 2v14c0 1.1.9 2 2 2h14c1.1 0 2-.9 2-2V5c0-1.1-.9-2-2-2zM9 17H7v-7h2v7zm4 0h-2V7h2v10zm4 0h-2v-4h2v4z\"/>\n",
              "    </g>\n",
              "</svg>\n",
              "  </button>\n",
              "\n",
              "<style>\n",
              "  .colab-df-quickchart {\n",
              "      --bg-color: #E8F0FE;\n",
              "      --fill-color: #1967D2;\n",
              "      --hover-bg-color: #E2EBFA;\n",
              "      --hover-fill-color: #174EA6;\n",
              "      --disabled-fill-color: #AAA;\n",
              "      --disabled-bg-color: #DDD;\n",
              "  }\n",
              "\n",
              "  [theme=dark] .colab-df-quickchart {\n",
              "      --bg-color: #3B4455;\n",
              "      --fill-color: #D2E3FC;\n",
              "      --hover-bg-color: #434B5C;\n",
              "      --hover-fill-color: #FFFFFF;\n",
              "      --disabled-bg-color: #3B4455;\n",
              "      --disabled-fill-color: #666;\n",
              "  }\n",
              "\n",
              "  .colab-df-quickchart {\n",
              "    background-color: var(--bg-color);\n",
              "    border: none;\n",
              "    border-radius: 50%;\n",
              "    cursor: pointer;\n",
              "    display: none;\n",
              "    fill: var(--fill-color);\n",
              "    height: 32px;\n",
              "    padding: 0;\n",
              "    width: 32px;\n",
              "  }\n",
              "\n",
              "  .colab-df-quickchart:hover {\n",
              "    background-color: var(--hover-bg-color);\n",
              "    box-shadow: 0 1px 2px rgba(60, 64, 67, 0.3), 0 1px 3px 1px rgba(60, 64, 67, 0.15);\n",
              "    fill: var(--button-hover-fill-color);\n",
              "  }\n",
              "\n",
              "  .colab-df-quickchart-complete:disabled,\n",
              "  .colab-df-quickchart-complete:disabled:hover {\n",
              "    background-color: var(--disabled-bg-color);\n",
              "    fill: var(--disabled-fill-color);\n",
              "    box-shadow: none;\n",
              "  }\n",
              "\n",
              "  .colab-df-spinner {\n",
              "    border: 2px solid var(--fill-color);\n",
              "    border-color: transparent;\n",
              "    border-bottom-color: var(--fill-color);\n",
              "    animation:\n",
              "      spin 1s steps(1) infinite;\n",
              "  }\n",
              "\n",
              "  @keyframes spin {\n",
              "    0% {\n",
              "      border-color: transparent;\n",
              "      border-bottom-color: var(--fill-color);\n",
              "      border-left-color: var(--fill-color);\n",
              "    }\n",
              "    20% {\n",
              "      border-color: transparent;\n",
              "      border-left-color: var(--fill-color);\n",
              "      border-top-color: var(--fill-color);\n",
              "    }\n",
              "    30% {\n",
              "      border-color: transparent;\n",
              "      border-left-color: var(--fill-color);\n",
              "      border-top-color: var(--fill-color);\n",
              "      border-right-color: var(--fill-color);\n",
              "    }\n",
              "    40% {\n",
              "      border-color: transparent;\n",
              "      border-right-color: var(--fill-color);\n",
              "      border-top-color: var(--fill-color);\n",
              "    }\n",
              "    60% {\n",
              "      border-color: transparent;\n",
              "      border-right-color: var(--fill-color);\n",
              "    }\n",
              "    80% {\n",
              "      border-color: transparent;\n",
              "      border-right-color: var(--fill-color);\n",
              "      border-bottom-color: var(--fill-color);\n",
              "    }\n",
              "    90% {\n",
              "      border-color: transparent;\n",
              "      border-bottom-color: var(--fill-color);\n",
              "    }\n",
              "  }\n",
              "</style>\n",
              "\n",
              "  <script>\n",
              "    async function quickchart(key) {\n",
              "      const quickchartButtonEl =\n",
              "        document.querySelector('#' + key + ' button');\n",
              "      quickchartButtonEl.disabled = true;  // To prevent multiple clicks.\n",
              "      quickchartButtonEl.classList.add('colab-df-spinner');\n",
              "      try {\n",
              "        const charts = await google.colab.kernel.invokeFunction(\n",
              "            'suggestCharts', [key], {});\n",
              "      } catch (error) {\n",
              "        console.error('Error during call to suggestCharts:', error);\n",
              "      }\n",
              "      quickchartButtonEl.classList.remove('colab-df-spinner');\n",
              "      quickchartButtonEl.classList.add('colab-df-quickchart-complete');\n",
              "    }\n",
              "    (() => {\n",
              "      let quickchartButtonEl =\n",
              "        document.querySelector('#df-c59a7dd0-fd94-4731-bd6f-8bde6187cbb3 button');\n",
              "      quickchartButtonEl.style.display =\n",
              "        google.colab.kernel.accessAllowed ? 'block' : 'none';\n",
              "    })();\n",
              "  </script>\n",
              "</div>\n",
              "\n",
              "    </div>\n",
              "  </div>\n"
            ],
            "application/vnd.google.colaboratory.intrinsic+json": {
              "type": "dataframe",
              "summary": "{\n  \"name\": \"df\",\n  \"rows\": 8,\n  \"fields\": [\n    {\n      \"column\": \"Postal Code\",\n      \"properties\": {\n        \"dtype\": \"number\",\n        \"std\": 40834.734073583364,\n        \"min\": 536.469157981208,\n        \"max\": 99403.0,\n        \"num_unique_values\": 8,\n        \"samples\": [\n          98178.95437908758,\n          98109.0,\n          49999.0\n        ],\n        \"semantic_type\": \"\",\n        \"description\": \"\"\n      }\n    },\n    {\n      \"column\": \"Model Year\",\n      \"properties\": {\n        \"dtype\": \"number\",\n        \"std\": 17080.447384886265,\n        \"min\": 2.9313349969084097,\n        \"max\": 50000.0,\n        \"num_unique_values\": 8,\n        \"samples\": [\n          2020.88148,\n          2022.0,\n          50000.0\n        ],\n        \"semantic_type\": \"\",\n        \"description\": \"\"\n      }\n    },\n    {\n      \"column\": \"Electric Range\",\n      \"properties\": {\n        \"dtype\": \"number\",\n        \"std\": 17651.057246657016,\n        \"min\": 0.0,\n        \"max\": 50000.0,\n        \"num_unique_values\": 6,\n        \"samples\": [\n          50000.0,\n          54.42558,\n          337.0\n        ],\n        \"semantic_type\": \"\",\n        \"description\": \"\"\n      }\n    },\n    {\n      \"column\": \"Base MSRP\",\n      \"properties\": {\n        \"dtype\": \"number\",\n        \"std\": 64558.617200145294,\n        \"min\": 0.0,\n        \"max\": 184400.0,\n        \"num_unique_values\": 5,\n        \"samples\": [\n          956.7484,\n          184400.0,\n          7794.677314490307\n        ],\n        \"semantic_type\": \"\",\n        \"description\": \"\"\n      }\n    },\n    {\n      \"column\": \"Legislative District\",\n      \"properties\": {\n        \"dtype\": \"number\",\n        \"std\": 17666.3933485782,\n        \"min\": 1.0,\n        \"max\": 49996.0,\n        \"num_unique_values\": 8,\n        \"samples\": [\n          31.644231538523083,\n          36.0,\n          49996.0\n        ],\n        \"semantic_type\": \"\",\n        \"description\": \"\"\n      }\n    },\n    {\n      \"column\": \"DOL Vehicle ID\",\n      \"properties\": {\n        \"dtype\": \"number\",\n        \"std\": 159026963.49951404,\n        \"min\": 4469.0,\n        \"max\": 478925947.0,\n        \"num_unique_values\": 8,\n        \"samples\": [\n          225292687.47952,\n          235238044.5,\n          50000.0\n        ],\n        \"semantic_type\": \"\",\n        \"description\": \"\"\n      }\n    },\n    {\n      \"column\": \"2020 Census Tract\",\n      \"properties\": {\n        \"dtype\": \"number\",\n        \"std\": 26424311198.683533,\n        \"min\": 49999.0,\n        \"max\": 53077940008.0,\n        \"num_unique_values\": 8,\n        \"samples\": [\n          53031934590.24921,\n          53033023901.0,\n          49999.0\n        ],\n        \"semantic_type\": \"\",\n        \"description\": \"\"\n      }\n    }\n  ]\n}"
            }
          },
          "metadata": {},
          "execution_count": 11
        }
      ]
    },
    {
      "cell_type": "markdown",
      "source": [
        "**NO OUTLIER IS SEEN**"
      ],
      "metadata": {
        "id": "WTkQIALYbNn2"
      }
    },
    {
      "cell_type": "code",
      "source": [
        "#checking the stats of string data\n",
        "df[['VIN (1-10)', 'County', 'City','State','Make','Model','Electric Vehicle Type',\n",
        "       'Clean Alternative Fuel Vehicle (CAFV) Eligibility', 'Vehicle Location', 'Electric Utility']].describe()"
      ],
      "metadata": {
        "colab": {
          "base_uri": "https://localhost:8080/",
          "height": 385
        },
        "id": "RWw-VMXs8mW1",
        "outputId": "cde2c5d2-2d56-457c-9b1c-2c2d16953278"
      },
      "execution_count": 12,
      "outputs": [
        {
          "output_type": "execute_result",
          "data": {
            "text/plain": [
              "        VIN (1-10) County     City  State   Make    Model  \\\n",
              "count        50000  49999    49999  50000  50000    50000   \n",
              "unique        8097     39      266      4     39      141   \n",
              "top     7SAYGDEE7P   King  Seattle     WA  TESLA  MODEL Y   \n",
              "freq           335  36500     9509  49996  22452    10582   \n",
              "\n",
              "                 Electric Vehicle Type  \\\n",
              "count                            50000   \n",
              "unique                               2   \n",
              "top     Battery Electric Vehicle (BEV)   \n",
              "freq                             39267   \n",
              "\n",
              "        Clean Alternative Fuel Vehicle (CAFV) Eligibility  \\\n",
              "count                                               50000   \n",
              "unique                                                  3   \n",
              "top     Eligibility unknown as battery range has not b...   \n",
              "freq                                                27128   \n",
              "\n",
              "                     Vehicle Location  \\\n",
              "count                           49998   \n",
              "unique                            358   \n",
              "top     POINT (-122.271716 47.452837)   \n",
              "freq                             2374   \n",
              "\n",
              "                                     Electric Utility  \n",
              "count                                           49999  \n",
              "unique                                             64  \n",
              "top     PUGET SOUND ENERGY INC||CITY OF TACOMA - (WA)  \n",
              "freq                                            24995  "
            ],
            "text/html": [
              "\n",
              "  <div id=\"df-e5d1d63b-46f1-42d2-9a96-d6cc198c2f80\" class=\"colab-df-container\">\n",
              "    <div>\n",
              "<style scoped>\n",
              "    .dataframe tbody tr th:only-of-type {\n",
              "        vertical-align: middle;\n",
              "    }\n",
              "\n",
              "    .dataframe tbody tr th {\n",
              "        vertical-align: top;\n",
              "    }\n",
              "\n",
              "    .dataframe thead th {\n",
              "        text-align: right;\n",
              "    }\n",
              "</style>\n",
              "<table border=\"1\" class=\"dataframe\">\n",
              "  <thead>\n",
              "    <tr style=\"text-align: right;\">\n",
              "      <th></th>\n",
              "      <th>VIN (1-10)</th>\n",
              "      <th>County</th>\n",
              "      <th>City</th>\n",
              "      <th>State</th>\n",
              "      <th>Make</th>\n",
              "      <th>Model</th>\n",
              "      <th>Electric Vehicle Type</th>\n",
              "      <th>Clean Alternative Fuel Vehicle (CAFV) Eligibility</th>\n",
              "      <th>Vehicle Location</th>\n",
              "      <th>Electric Utility</th>\n",
              "    </tr>\n",
              "  </thead>\n",
              "  <tbody>\n",
              "    <tr>\n",
              "      <th>count</th>\n",
              "      <td>50000</td>\n",
              "      <td>49999</td>\n",
              "      <td>49999</td>\n",
              "      <td>50000</td>\n",
              "      <td>50000</td>\n",
              "      <td>50000</td>\n",
              "      <td>50000</td>\n",
              "      <td>50000</td>\n",
              "      <td>49998</td>\n",
              "      <td>49999</td>\n",
              "    </tr>\n",
              "    <tr>\n",
              "      <th>unique</th>\n",
              "      <td>8097</td>\n",
              "      <td>39</td>\n",
              "      <td>266</td>\n",
              "      <td>4</td>\n",
              "      <td>39</td>\n",
              "      <td>141</td>\n",
              "      <td>2</td>\n",
              "      <td>3</td>\n",
              "      <td>358</td>\n",
              "      <td>64</td>\n",
              "    </tr>\n",
              "    <tr>\n",
              "      <th>top</th>\n",
              "      <td>7SAYGDEE7P</td>\n",
              "      <td>King</td>\n",
              "      <td>Seattle</td>\n",
              "      <td>WA</td>\n",
              "      <td>TESLA</td>\n",
              "      <td>MODEL Y</td>\n",
              "      <td>Battery Electric Vehicle (BEV)</td>\n",
              "      <td>Eligibility unknown as battery range has not b...</td>\n",
              "      <td>POINT (-122.271716 47.452837)</td>\n",
              "      <td>PUGET SOUND ENERGY INC||CITY OF TACOMA - (WA)</td>\n",
              "    </tr>\n",
              "    <tr>\n",
              "      <th>freq</th>\n",
              "      <td>335</td>\n",
              "      <td>36500</td>\n",
              "      <td>9509</td>\n",
              "      <td>49996</td>\n",
              "      <td>22452</td>\n",
              "      <td>10582</td>\n",
              "      <td>39267</td>\n",
              "      <td>27128</td>\n",
              "      <td>2374</td>\n",
              "      <td>24995</td>\n",
              "    </tr>\n",
              "  </tbody>\n",
              "</table>\n",
              "</div>\n",
              "    <div class=\"colab-df-buttons\">\n",
              "\n",
              "  <div class=\"colab-df-container\">\n",
              "    <button class=\"colab-df-convert\" onclick=\"convertToInteractive('df-e5d1d63b-46f1-42d2-9a96-d6cc198c2f80')\"\n",
              "            title=\"Convert this dataframe to an interactive table.\"\n",
              "            style=\"display:none;\">\n",
              "\n",
              "  <svg xmlns=\"http://www.w3.org/2000/svg\" height=\"24px\" viewBox=\"0 -960 960 960\">\n",
              "    <path d=\"M120-120v-720h720v720H120Zm60-500h600v-160H180v160Zm220 220h160v-160H400v160Zm0 220h160v-160H400v160ZM180-400h160v-160H180v160Zm440 0h160v-160H620v160ZM180-180h160v-160H180v160Zm440 0h160v-160H620v160Z\"/>\n",
              "  </svg>\n",
              "    </button>\n",
              "\n",
              "  <style>\n",
              "    .colab-df-container {\n",
              "      display:flex;\n",
              "      gap: 12px;\n",
              "    }\n",
              "\n",
              "    .colab-df-convert {\n",
              "      background-color: #E8F0FE;\n",
              "      border: none;\n",
              "      border-radius: 50%;\n",
              "      cursor: pointer;\n",
              "      display: none;\n",
              "      fill: #1967D2;\n",
              "      height: 32px;\n",
              "      padding: 0 0 0 0;\n",
              "      width: 32px;\n",
              "    }\n",
              "\n",
              "    .colab-df-convert:hover {\n",
              "      background-color: #E2EBFA;\n",
              "      box-shadow: 0px 1px 2px rgba(60, 64, 67, 0.3), 0px 1px 3px 1px rgba(60, 64, 67, 0.15);\n",
              "      fill: #174EA6;\n",
              "    }\n",
              "\n",
              "    .colab-df-buttons div {\n",
              "      margin-bottom: 4px;\n",
              "    }\n",
              "\n",
              "    [theme=dark] .colab-df-convert {\n",
              "      background-color: #3B4455;\n",
              "      fill: #D2E3FC;\n",
              "    }\n",
              "\n",
              "    [theme=dark] .colab-df-convert:hover {\n",
              "      background-color: #434B5C;\n",
              "      box-shadow: 0px 1px 3px 1px rgba(0, 0, 0, 0.15);\n",
              "      filter: drop-shadow(0px 1px 2px rgba(0, 0, 0, 0.3));\n",
              "      fill: #FFFFFF;\n",
              "    }\n",
              "  </style>\n",
              "\n",
              "    <script>\n",
              "      const buttonEl =\n",
              "        document.querySelector('#df-e5d1d63b-46f1-42d2-9a96-d6cc198c2f80 button.colab-df-convert');\n",
              "      buttonEl.style.display =\n",
              "        google.colab.kernel.accessAllowed ? 'block' : 'none';\n",
              "\n",
              "      async function convertToInteractive(key) {\n",
              "        const element = document.querySelector('#df-e5d1d63b-46f1-42d2-9a96-d6cc198c2f80');\n",
              "        const dataTable =\n",
              "          await google.colab.kernel.invokeFunction('convertToInteractive',\n",
              "                                                    [key], {});\n",
              "        if (!dataTable) return;\n",
              "\n",
              "        const docLinkHtml = 'Like what you see? Visit the ' +\n",
              "          '<a target=\"_blank\" href=https://colab.research.google.com/notebooks/data_table.ipynb>data table notebook</a>'\n",
              "          + ' to learn more about interactive tables.';\n",
              "        element.innerHTML = '';\n",
              "        dataTable['output_type'] = 'display_data';\n",
              "        await google.colab.output.renderOutput(dataTable, element);\n",
              "        const docLink = document.createElement('div');\n",
              "        docLink.innerHTML = docLinkHtml;\n",
              "        element.appendChild(docLink);\n",
              "      }\n",
              "    </script>\n",
              "  </div>\n",
              "\n",
              "\n",
              "<div id=\"df-16d13772-0b61-4fb8-97ee-228c6fa9a9c2\">\n",
              "  <button class=\"colab-df-quickchart\" onclick=\"quickchart('df-16d13772-0b61-4fb8-97ee-228c6fa9a9c2')\"\n",
              "            title=\"Suggest charts\"\n",
              "            style=\"display:none;\">\n",
              "\n",
              "<svg xmlns=\"http://www.w3.org/2000/svg\" height=\"24px\"viewBox=\"0 0 24 24\"\n",
              "     width=\"24px\">\n",
              "    <g>\n",
              "        <path d=\"M19 3H5c-1.1 0-2 .9-2 2v14c0 1.1.9 2 2 2h14c1.1 0 2-.9 2-2V5c0-1.1-.9-2-2-2zM9 17H7v-7h2v7zm4 0h-2V7h2v10zm4 0h-2v-4h2v4z\"/>\n",
              "    </g>\n",
              "</svg>\n",
              "  </button>\n",
              "\n",
              "<style>\n",
              "  .colab-df-quickchart {\n",
              "      --bg-color: #E8F0FE;\n",
              "      --fill-color: #1967D2;\n",
              "      --hover-bg-color: #E2EBFA;\n",
              "      --hover-fill-color: #174EA6;\n",
              "      --disabled-fill-color: #AAA;\n",
              "      --disabled-bg-color: #DDD;\n",
              "  }\n",
              "\n",
              "  [theme=dark] .colab-df-quickchart {\n",
              "      --bg-color: #3B4455;\n",
              "      --fill-color: #D2E3FC;\n",
              "      --hover-bg-color: #434B5C;\n",
              "      --hover-fill-color: #FFFFFF;\n",
              "      --disabled-bg-color: #3B4455;\n",
              "      --disabled-fill-color: #666;\n",
              "  }\n",
              "\n",
              "  .colab-df-quickchart {\n",
              "    background-color: var(--bg-color);\n",
              "    border: none;\n",
              "    border-radius: 50%;\n",
              "    cursor: pointer;\n",
              "    display: none;\n",
              "    fill: var(--fill-color);\n",
              "    height: 32px;\n",
              "    padding: 0;\n",
              "    width: 32px;\n",
              "  }\n",
              "\n",
              "  .colab-df-quickchart:hover {\n",
              "    background-color: var(--hover-bg-color);\n",
              "    box-shadow: 0 1px 2px rgba(60, 64, 67, 0.3), 0 1px 3px 1px rgba(60, 64, 67, 0.15);\n",
              "    fill: var(--button-hover-fill-color);\n",
              "  }\n",
              "\n",
              "  .colab-df-quickchart-complete:disabled,\n",
              "  .colab-df-quickchart-complete:disabled:hover {\n",
              "    background-color: var(--disabled-bg-color);\n",
              "    fill: var(--disabled-fill-color);\n",
              "    box-shadow: none;\n",
              "  }\n",
              "\n",
              "  .colab-df-spinner {\n",
              "    border: 2px solid var(--fill-color);\n",
              "    border-color: transparent;\n",
              "    border-bottom-color: var(--fill-color);\n",
              "    animation:\n",
              "      spin 1s steps(1) infinite;\n",
              "  }\n",
              "\n",
              "  @keyframes spin {\n",
              "    0% {\n",
              "      border-color: transparent;\n",
              "      border-bottom-color: var(--fill-color);\n",
              "      border-left-color: var(--fill-color);\n",
              "    }\n",
              "    20% {\n",
              "      border-color: transparent;\n",
              "      border-left-color: var(--fill-color);\n",
              "      border-top-color: var(--fill-color);\n",
              "    }\n",
              "    30% {\n",
              "      border-color: transparent;\n",
              "      border-left-color: var(--fill-color);\n",
              "      border-top-color: var(--fill-color);\n",
              "      border-right-color: var(--fill-color);\n",
              "    }\n",
              "    40% {\n",
              "      border-color: transparent;\n",
              "      border-right-color: var(--fill-color);\n",
              "      border-top-color: var(--fill-color);\n",
              "    }\n",
              "    60% {\n",
              "      border-color: transparent;\n",
              "      border-right-color: var(--fill-color);\n",
              "    }\n",
              "    80% {\n",
              "      border-color: transparent;\n",
              "      border-right-color: var(--fill-color);\n",
              "      border-bottom-color: var(--fill-color);\n",
              "    }\n",
              "    90% {\n",
              "      border-color: transparent;\n",
              "      border-bottom-color: var(--fill-color);\n",
              "    }\n",
              "  }\n",
              "</style>\n",
              "\n",
              "  <script>\n",
              "    async function quickchart(key) {\n",
              "      const quickchartButtonEl =\n",
              "        document.querySelector('#' + key + ' button');\n",
              "      quickchartButtonEl.disabled = true;  // To prevent multiple clicks.\n",
              "      quickchartButtonEl.classList.add('colab-df-spinner');\n",
              "      try {\n",
              "        const charts = await google.colab.kernel.invokeFunction(\n",
              "            'suggestCharts', [key], {});\n",
              "      } catch (error) {\n",
              "        console.error('Error during call to suggestCharts:', error);\n",
              "      }\n",
              "      quickchartButtonEl.classList.remove('colab-df-spinner');\n",
              "      quickchartButtonEl.classList.add('colab-df-quickchart-complete');\n",
              "    }\n",
              "    (() => {\n",
              "      let quickchartButtonEl =\n",
              "        document.querySelector('#df-16d13772-0b61-4fb8-97ee-228c6fa9a9c2 button');\n",
              "      quickchartButtonEl.style.display =\n",
              "        google.colab.kernel.accessAllowed ? 'block' : 'none';\n",
              "    })();\n",
              "  </script>\n",
              "</div>\n",
              "\n",
              "    </div>\n",
              "  </div>\n"
            ],
            "application/vnd.google.colaboratory.intrinsic+json": {
              "type": "dataframe",
              "summary": "{\n  \"name\": \"       'Clean Alternative Fuel Vehicle (CAFV) Eligibility', 'Vehicle Location', 'Electric Utility']]\",\n  \"rows\": 4,\n  \"fields\": [\n    {\n      \"column\": \"VIN (1-10)\",\n      \"properties\": {\n        \"dtype\": \"string\",\n        \"num_unique_values\": 4,\n        \"samples\": [\n          8097,\n          \"335\",\n          \"50000\"\n        ],\n        \"semantic_type\": \"\",\n        \"description\": \"\"\n      }\n    },\n    {\n      \"column\": \"County\",\n      \"properties\": {\n        \"dtype\": \"string\",\n        \"num_unique_values\": 4,\n        \"samples\": [\n          39,\n          \"36500\",\n          \"49999\"\n        ],\n        \"semantic_type\": \"\",\n        \"description\": \"\"\n      }\n    },\n    {\n      \"column\": \"City\",\n      \"properties\": {\n        \"dtype\": \"string\",\n        \"num_unique_values\": 4,\n        \"samples\": [\n          266,\n          \"9509\",\n          \"49999\"\n        ],\n        \"semantic_type\": \"\",\n        \"description\": \"\"\n      }\n    },\n    {\n      \"column\": \"State\",\n      \"properties\": {\n        \"dtype\": \"string\",\n        \"num_unique_values\": 4,\n        \"samples\": [\n          4,\n          \"49996\",\n          \"50000\"\n        ],\n        \"semantic_type\": \"\",\n        \"description\": \"\"\n      }\n    },\n    {\n      \"column\": \"Make\",\n      \"properties\": {\n        \"dtype\": \"string\",\n        \"num_unique_values\": 4,\n        \"samples\": [\n          39,\n          \"22452\",\n          \"50000\"\n        ],\n        \"semantic_type\": \"\",\n        \"description\": \"\"\n      }\n    },\n    {\n      \"column\": \"Model\",\n      \"properties\": {\n        \"dtype\": \"string\",\n        \"num_unique_values\": 4,\n        \"samples\": [\n          141,\n          \"10582\",\n          \"50000\"\n        ],\n        \"semantic_type\": \"\",\n        \"description\": \"\"\n      }\n    },\n    {\n      \"column\": \"Electric Vehicle Type\",\n      \"properties\": {\n        \"dtype\": \"string\",\n        \"num_unique_values\": 4,\n        \"samples\": [\n          2,\n          \"39267\",\n          \"50000\"\n        ],\n        \"semantic_type\": \"\",\n        \"description\": \"\"\n      }\n    },\n    {\n      \"column\": \"Clean Alternative Fuel Vehicle (CAFV) Eligibility\",\n      \"properties\": {\n        \"dtype\": \"string\",\n        \"num_unique_values\": 4,\n        \"samples\": [\n          3,\n          \"27128\",\n          \"50000\"\n        ],\n        \"semantic_type\": \"\",\n        \"description\": \"\"\n      }\n    },\n    {\n      \"column\": \"Vehicle Location\",\n      \"properties\": {\n        \"dtype\": \"string\",\n        \"num_unique_values\": 4,\n        \"samples\": [\n          358,\n          \"2374\",\n          \"49998\"\n        ],\n        \"semantic_type\": \"\",\n        \"description\": \"\"\n      }\n    },\n    {\n      \"column\": \"Electric Utility\",\n      \"properties\": {\n        \"dtype\": \"string\",\n        \"num_unique_values\": 4,\n        \"samples\": [\n          64,\n          \"24995\",\n          \"49999\"\n        ],\n        \"semantic_type\": \"\",\n        \"description\": \"\"\n      }\n    }\n  ]\n}"
            }
          },
          "metadata": {},
          "execution_count": 12
        }
      ]
    },
    {
      "cell_type": "code",
      "source": [
        "# Check for duplicates across all columns\n",
        "duplicates = df[df.duplicated()]"
      ],
      "metadata": {
        "id": "u62cH4Wn-HDr"
      },
      "execution_count": 13,
      "outputs": []
    },
    {
      "cell_type": "code",
      "source": [
        "# Print the number of duplicates\n",
        "print(f\"Number of duplicate rows: {duplicates.shape[0]}\")"
      ],
      "metadata": {
        "colab": {
          "base_uri": "https://localhost:8080/"
        },
        "id": "_GGqNC4ZaeYW",
        "outputId": "a66a2c6d-bcb0-4b63-a3c1-552f08da5ffa"
      },
      "execution_count": 14,
      "outputs": [
        {
          "output_type": "stream",
          "name": "stdout",
          "text": [
            "Number of duplicate rows: 0\n"
          ]
        }
      ]
    },
    {
      "cell_type": "markdown",
      "source": [
        "**NO DUPLICATE VALUES**"
      ],
      "metadata": {
        "id": "cYUB_y7lbc-s"
      }
    },
    {
      "cell_type": "code",
      "source": [],
      "metadata": {
        "id": "8QnolgMOa_un"
      },
      "execution_count": null,
      "outputs": []
    },
    {
      "cell_type": "markdown",
      "source": [
        "#**DATA   ANALYSIS**\n",
        "##**Basic Level questions**"
      ],
      "metadata": {
        "id": "yoiHCEV9cht1"
      }
    },
    {
      "cell_type": "markdown",
      "source": [
        "###***Q1.  What is the total number of electric vehicles registered in each county?***"
      ],
      "metadata": {
        "id": "puiLErSacguS"
      }
    },
    {
      "cell_type": "code",
      "source": [
        "# Group by county and count electric vehicles\n",
        "ev_counts_by_county = df.groupby('County')['Electric Vehicle Type'].count()\n",
        "\n",
        "# Display the results\n",
        "print(\"Total number of electric vehicles registered in each county:\")\n",
        "print(ev_counts_by_county)"
      ],
      "metadata": {
        "colab": {
          "base_uri": "https://localhost:8080/"
        },
        "id": "psTdueWYdFNQ",
        "outputId": "ed63e491-4dc7-4c4a-9a9f-c6b61a351844"
      },
      "execution_count": 15,
      "outputs": [
        {
          "output_type": "stream",
          "name": "stdout",
          "text": [
            "Total number of electric vehicles registered in each county:\n",
            "County\n",
            "Adams               4\n",
            "Asotin              5\n",
            "Benton             48\n",
            "Chelan             35\n",
            "Clallam            77\n",
            "Clark            4687\n",
            "Columbia            2\n",
            "Cowlitz           437\n",
            "Douglas            17\n",
            "Ferry               2\n",
            "Franklin            5\n",
            "Grant              13\n",
            "Grays Harbor       24\n",
            "Island            205\n",
            "Jefferson         367\n",
            "King            36500\n",
            "Kitsap           2177\n",
            "Kittitas           18\n",
            "Klickitat          22\n",
            "Lewis              12\n",
            "Marin               1\n",
            "Mason              29\n",
            "Montgomery          2\n",
            "Okanogan            9\n",
            "Pacific             5\n",
            "Pend Oreille        1\n",
            "Pierce            261\n",
            "San Juan           27\n",
            "Skagit             50\n",
            "Skamania            7\n",
            "Snohomish        2881\n",
            "Spokane            90\n",
            "Stevens            30\n",
            "Thurston         1498\n",
            "Wahkiakum           5\n",
            "Walla Walla        17\n",
            "Whatcom           100\n",
            "Whitman            11\n",
            "Yakima            318\n",
            "Name: Electric Vehicle Type, dtype: int64\n"
          ]
        }
      ]
    },
    {
      "cell_type": "markdown",
      "source": [
        "###***Q2. which are the top 5 most popular electric vehicle models in the dataset***"
      ],
      "metadata": {
        "id": "rHXupaD9dfh-"
      }
    },
    {
      "cell_type": "code",
      "source": [
        "# Group by model and count occurrences\n",
        "model_counts = df.groupby('Model')['Model'].count().sort_values(ascending=False)\n",
        "\n",
        "# Get the top 5 models\n",
        "top_5_models = model_counts.head(5)\n",
        "\n",
        "# Display the results\n",
        "print(\"Top 5 most popular electric vehicle models:\")\n",
        "print(top_5_models)"
      ],
      "metadata": {
        "colab": {
          "base_uri": "https://localhost:8080/"
        },
        "id": "RU7ePV5Nd-iD",
        "outputId": "8d0db256-9256-4273-d838-d06ebdaaeb59"
      },
      "execution_count": 16,
      "outputs": [
        {
          "output_type": "stream",
          "name": "stdout",
          "text": [
            "Top 5 most popular electric vehicle models:\n",
            "Model\n",
            "MODEL Y    10582\n",
            "MODEL 3     8171\n",
            "LEAF        3424\n",
            "MODEL S     1939\n",
            "MODEL X     1693\n",
            "Name: Model, dtype: int64\n"
          ]
        }
      ]
    },
    {
      "cell_type": "code",
      "source": [
        "# Creating a bar chart\n",
        "plt.figure(figsize=(10, 6))  # Adjust figure size if needed\n",
        "plt.bar(top_5_models.index, top_5_models.values, color=['red', 'blue', 'green', 'yellow', 'black'])\n",
        "plt.xlabel(\"Model\")\n",
        "plt.ylabel(\"Number of Vehicles\")\n",
        "plt.title(\"Top 5 Most Popular Electric Vehicle Models\")\n",
        "plt.xticks(rotation=45, ha='right')  # Rotate x-axis labels for better readability\n",
        "plt.tight_layout()  # Adjust layout to prevent labels from overlapping\n",
        "plt.show()"
      ],
      "metadata": {
        "colab": {
          "base_uri": "https://localhost:8080/",
          "height": 433
        },
        "id": "q46kn612nXyU",
        "outputId": "5d7100c5-7ee9-4995-9a58-3a8233fa53f9"
      },
      "execution_count": 27,
      "outputs": [
        {
          "output_type": "display_data",
          "data": {
            "text/plain": [
              "<Figure size 1000x600 with 1 Axes>"
            ],
            "image/png": "[encoded data removed]"
          },
          "metadata": {}
        }
      ]
    },
    {
      "cell_type": "markdown",
      "source": [
        "###***Q3. What is the average electric range of vehicles by type(BEV vs PHEV)?***"
      ],
      "metadata": {
        "id": "_1lbGLNNeOHz"
      }
    },
    {
      "cell_type": "code",
      "source": [
        "# Calculate average range for BEV and PHEV\n",
        "average_range_by_type = df.groupby('Electric Vehicle Type')['Electric Range'].mean()\n",
        "\n",
        "# Display the results\n",
        "print(\"Average electric range by vehicle type:\")\n",
        "print(average_range_by_type)"
      ],
      "metadata": {
        "colab": {
          "base_uri": "https://localhost:8080/"
        },
        "id": "6K-GbvdDeFo8",
        "outputId": "1809623b-6b5c-4ead-d658-1988577347ce"
      },
      "execution_count": 17,
      "outputs": [
        {
          "output_type": "stream",
          "name": "stdout",
          "text": [
            "Average electric range by vehicle type:\n",
            "Electric Vehicle Type\n",
            "Battery Electric Vehicle (BEV)            60.935620\n",
            "Plug-in Hybrid Electric Vehicle (PHEV)    30.608404\n",
            "Name: Electric Range, dtype: float64\n"
          ]
        }
      ]
    },
    {
      "cell_type": "markdown",
      "source": [
        "###***Q4.  How many vehicles are eligible for clean alternative fuel vehicle incentives?***"
      ],
      "metadata": {
        "id": "jr8vPiOQfcZy"
      }
    },
    {
      "cell_type": "code",
      "source": [
        "# Filter for 'Clean Alternative Fuel Vehicle Eligible'\n",
        "eligible_vehicles = df[df['Clean Alternative Fuel Vehicle (CAFV) Eligibility'] == 'Clean Alternative Fuel Vehicle Eligible']\n",
        "\n",
        "# Get the count of eligible vehicles\n",
        "eligible_count = eligible_vehicles.shape[0]\n",
        "\n",
        "# Display the count\n",
        "print(f\"Number of Clean Alternative Fuel Vehicle Eligible vehicles: {eligible_count}\")"
      ],
      "metadata": {
        "colab": {
          "base_uri": "https://localhost:8080/"
        },
        "id": "tzz3pZdqj1S9",
        "outputId": "5e7f8eb5-5315-427a-d273-927241874fa7"
      },
      "execution_count": 20,
      "outputs": [
        {
          "output_type": "stream",
          "name": "stdout",
          "text": [
            "Number of Clean Alternative Fuel Vehicle Eligible vehicles: 17615\n"
          ]
        }
      ]
    },
    {
      "cell_type": "markdown",
      "source": [
        "###***Q5. what is the distribution of electric vehicles by model year?***"
      ],
      "metadata": {
        "id": "m5_qTyhilXq1"
      }
    },
    {
      "cell_type": "code",
      "source": [
        "\n",
        "model_year_distribution = df['Model Year'].value_counts().sort_index()\n",
        "\n",
        "# Display the distribution\n",
        "print(\"Distribution of electric vehicles by model year:\")\n",
        "print(model_year_distribution)"
      ],
      "metadata": {
        "colab": {
          "base_uri": "https://localhost:8080/"
        },
        "id": "jjag0L_1lPdt",
        "outputId": "677724dc-c72b-444a-e45a-b32a1f28202a"
      },
      "execution_count": 21,
      "outputs": [
        {
          "output_type": "stream",
          "name": "stdout",
          "text": [
            "Distribution of electric vehicles by model year:\n",
            "Model Year\n",
            "2000        3\n",
            "2008        6\n",
            "2010        7\n",
            "2011      186\n",
            "2012      334\n",
            "2013     1039\n",
            "2014      825\n",
            "2015     1120\n",
            "2016     1374\n",
            "2017     2080\n",
            "2018     3796\n",
            "2019     2706\n",
            "2020     3080\n",
            "2021     4965\n",
            "2022     7115\n",
            "2023    16183\n",
            "2024     5170\n",
            "2025       11\n",
            "Name: count, dtype: int64\n"
          ]
        }
      ]
    },
    {
      "cell_type": "code",
      "source": [
        "# Creating a bar chart\n",
        "plt.figure(figsize=(10, 6))  # Adjust figure size if needed\n",
        "plt.bar(model_year_distribution.index, model_year_distribution.values,color = 'green')\n",
        "plt.xlabel(\"Model Year\")\n",
        "plt.ylabel(\"Number of Electric Vehicles\")\n",
        "plt.title(\"Distribution of Electric Vehicles by Model Year\")\n",
        "plt.xticks(rotation=45, ha='right')  # Rotate x-axis labels for better readability\n",
        "plt.tight_layout()  # Adjust layout to prevent labels from overlapping\n",
        "plt.show()"
      ],
      "metadata": {
        "colab": {
          "base_uri": "https://localhost:8080/",
          "height": 433
        },
        "id": "Veh0me8pl6F2",
        "outputId": "a888aed6-e7f3-4c48-a308-61bba0bace95"
      },
      "execution_count": 26,
      "outputs": [
        {
          "output_type": "display_data",
          "data": {
            "text/plain": [
              "<Figure size 1000x600 with 1 Axes>"
            ],
            "image/png": "[encoded data removed]"
          },
          "metadata": {}
        }
      ]
    },
    {
      "cell_type": "markdown",
      "source": [
        "###***Q6. Which cities have the highest number of registered electric vehicles?***"
      ],
      "metadata": {
        "id": "xBRbEylmqVIy"
      }
    },
    {
      "cell_type": "code",
      "source": [
        "# Group by city and count electric vehicles\n",
        "city_counts = df.groupby('City')['City'].count().sort_values(ascending=False)\n",
        "\n",
        "# Get the cities with the highest counts\n",
        "top_cities = city_counts.head(10)  # Change 10 to the desired number of top cities\n",
        "\n",
        "# Display the results\n",
        "print(\"Cities with the highest number of registered electric vehicles:\")\n",
        "print(top_cities)"
      ],
      "metadata": {
        "colab": {
          "base_uri": "https://localhost:8080/"
        },
        "id": "Rn2575Pfm_oh",
        "outputId": "455db59c-31f5-433f-bc51-9c83c3c4ef93"
      },
      "execution_count": 28,
      "outputs": [
        {
          "output_type": "stream",
          "name": "stdout",
          "text": [
            "Cities with the highest number of registered electric vehicles:\n",
            "City\n",
            "Seattle      9509\n",
            "Bellevue     4666\n",
            "Vancouver    2965\n",
            "Kirkland     2917\n",
            "Sammamish    2401\n",
            "Tukwila      2391\n",
            "Redmond      2277\n",
            "Bothell      1749\n",
            "Renton       1485\n",
            "Kent         1341\n",
            "Name: City, dtype: int64\n"
          ]
        }
      ]
    },
    {
      "cell_type": "code",
      "source": [
        "plt.figure(figsize=(12, 6))  # Adjust figure size as needed\n",
        "plt.bar(top_cities.index, top_cities.values, color='skyblue')\n",
        "plt.xlabel(\"City\")\n",
        "plt.ylabel(\"Number of Registered Electric Vehicles\")\n",
        "plt.title(\"Top Cities with the Highest Number of Registered Electric Vehicles\")\n",
        "plt.xticks(rotation=45, ha='right')  # Rotate x-axis labels for better readability\n",
        "plt.tight_layout()  # Adjust layout to prevent labels from overlapping\n",
        "plt.show()"
      ],
      "metadata": {
        "colab": {
          "base_uri": "https://localhost:8080/",
          "height": 363
        },
        "id": "LEXXFPxnqx3m",
        "outputId": "108361a7-c24c-459f-fa0e-904eeabc0d05"
      },
      "execution_count": 29,
      "outputs": [
        {
          "output_type": "display_data",
          "data": {
            "text/plain": [
              "<Figure size 1200x600 with 1 Axes>"
            ],
            "image/png": "[encoded data removed]"
          },
          "metadata": {}
        }
      ]
    },
    {
      "cell_type": "markdown",
      "source": [
        "###***Q7. What is the relationship between base MSRP and electric range?***"
      ],
      "metadata": {
        "id": "5r8bBB1brTcd"
      }
    },
    {
      "cell_type": "code",
      "source": [
        "# Creating a scatter plot\n",
        "plt.figure(figsize=(10, 6))  # Adjust figure size if needed\n",
        "plt.scatter(df['Base MSRP'], df['Electric Range'], alpha=0.5)  # Alpha for transparency\n",
        "plt.xlabel(\"Base MSRP\")\n",
        "plt.ylabel(\"Electric Range\")\n",
        "plt.title(\"Relationship between Base MSRP and Electric Range\")\n",
        "plt.grid(True)  # Add a grid for better readability\n",
        "plt.show()"
      ],
      "metadata": {
        "colab": {
          "base_uri": "https://localhost:8080/",
          "height": 466
        },
        "id": "URhN9yZlrBCQ",
        "outputId": "74a97010-3604-4ba9-a58c-204c7c6387c4"
      },
      "execution_count": 30,
      "outputs": [
        {
          "output_type": "display_data",
          "data": {
            "text/plain": [
              "<Figure size 1000x600 with 1 Axes>"
            ],
            "image/png": "[encoded data removed]"
          },
          "metadata": {}
        }
      ]
    },
    {
      "cell_type": "markdown",
      "source": [
        "###***Q8. Which electric utility providers serve the most electric vehicles?***"
      ],
      "metadata": {
        "id": "YzMjqXFTsPjF"
      }
    },
    {
      "cell_type": "code",
      "source": [
        "# Group by electric utility and count vehicles\n",
        "utility_counts = df.groupby('Electric Utility')['Electric Utility'].count().sort_values(ascending=False)\n",
        "\n",
        "# Get the top utility providers\n",
        "top_utilities = utility_counts.head(5)  # Change 10 to the desired number of top utilities\n",
        "\n",
        "# Display the results\n",
        "print(\"Electric utility providers serving the most electric vehicles:\")\n",
        "print(top_utilities)"
      ],
      "metadata": {
        "colab": {
          "base_uri": "https://localhost:8080/"
        },
        "id": "SyeO3IkCsDMo",
        "outputId": "02e5010c-58b3-4fd9-cbdf-fa1f023f2a22"
      },
      "execution_count": 32,
      "outputs": [
        {
          "output_type": "stream",
          "name": "stdout",
          "text": [
            "Electric utility providers serving the most electric vehicles:\n",
            "Electric Utility\n",
            "PUGET SOUND ENERGY INC||CITY OF TACOMA - (WA)                       24995\n",
            "CITY OF SEATTLE - (WA)|CITY OF TACOMA - (WA)                        11557\n",
            "PUGET SOUND ENERGY INC                                               6621\n",
            "BONNEVILLE POWER ADMINISTRATION||PUD NO 1 OF CLARK COUNTY - (WA)     4588\n",
            "BONNEVILLE POWER ADMINISTRATION||PUD NO 1 OF COWLITZ COUNTY           437\n",
            "Name: Electric Utility, dtype: int64\n"
          ]
        }
      ]
    },
    {
      "cell_type": "code",
      "source": [
        "# Creating a bar chart\n",
        "plt.figure(figsize=(12, 9))\n",
        "plt.bar(top_utilities.index, top_utilities.values, color='green')\n",
        "plt.xlabel(\"Electric Utility Provider\")\n",
        "plt.ylabel(\"Number of Electric Vehicles Served\")\n",
        "plt.title(\"Electric Utility Providers Serving the Most Electric Vehicles\")\n",
        "plt.xticks(rotation=45, ha='right')  # Rotate x-axis labels for better readability\n",
        "plt.tight_layout()  # Adjust layout to prevent labels from overlapping\n",
        "plt.show()"
      ],
      "metadata": {
        "colab": {
          "base_uri": "https://localhost:8080/",
          "height": 543
        },
        "id": "s5YWnPLNso-V",
        "outputId": "7a1cd666-c323-471c-e9f1-313e56ac3391"
      },
      "execution_count": 35,
      "outputs": [
        {
          "output_type": "display_data",
          "data": {
            "text/plain": [
              "<Figure size 1200x900 with 1 Axes>"
            ],
            "image/png": "[encoded data removed]"
          },
          "metadata": {}
        }
      ]
    },
    {
      "cell_type": "markdown",
      "source": [
        "###***Q9 What percentage of vehicles are plug-in hybrid electric vehicles(PHEVs)***"
      ],
      "metadata": {
        "id": "umJY3KaQtgXh"
      }
    },
    {
      "cell_type": "code",
      "source": [
        "phev_percentage = (df['Electric Vehicle Type'].value_counts(normalize=True)['Plug-in Hybrid Electric Vehicle (PHEV)']) * 100\n",
        "\n",
        "# Display the result\n",
        "print(f\"Percentage of vehicles that are PHEVs: {phev_percentage:.2f}%\")"
      ],
      "metadata": {
        "colab": {
          "base_uri": "https://localhost:8080/"
        },
        "id": "uWGuxhDNxH4r",
        "outputId": "59667b02-700e-4121-a446-42b5089c5c3a"
      },
      "execution_count": 43,
      "outputs": [
        {
          "output_type": "stream",
          "name": "stdout",
          "text": [
            "Percentage of vehicles that are PHEVs: 21.47%\n"
          ]
        }
      ]
    },
    {
      "cell_type": "code",
      "source": [
        "other_percentage = 100 - phev_percentage\n",
        "# Create labels and data for the pie chart\n",
        "labels = ['PHEV', 'Other']\n",
        "sizes = [phev_percentage, other_percentage]\n",
        "colors = ['aqua', 'green']  # Specify colors for PHEV and Other\n",
        "\n",
        "# Create the pie chart\n",
        "plt.figure(figsize=(6, 6))  # Adjust figure size if needed\n",
        "plt.pie(sizes, labels=labels, colors=colors, autopct='%1.1f%%', startangle=90)\n",
        "plt.title(\"Percentage of Plug-in Hybrid Electric Vehicles (PHEVs)\")\n",
        "plt.axis('equal')  # Equal aspect ratio ensures that pie is drawn as a circle.\n",
        "plt.show()"
      ],
      "metadata": {
        "colab": {
          "base_uri": "https://localhost:8080/",
          "height": 521
        },
        "id": "8fJmqk3Axnvb",
        "outputId": "cb133112-a60f-4553-8c2e-4dff763ff4fd"
      },
      "execution_count": 46,
      "outputs": [
        {
          "output_type": "display_data",
          "data": {
            "text/plain": [
              "<Figure size 600x600 with 1 Axes>"
            ],
            "image/png": "[encoded data removed]"
          },
          "metadata": {}
        }
      ]
    },
    {
      "cell_type": "markdown",
      "source": [
        "###***Q10. Which legislative districts have the highest EV Adoption rates?***"
      ],
      "metadata": {
        "id": "pr4-SCo3ykTJ"
      }
    },
    {
      "cell_type": "code",
      "source": [
        "# 1. Group by Legislative District and count EVs\n",
        "ev_counts_by_district = df.groupby('Legislative District')['Electric Vehicle Type'].count()\n",
        "\n",
        "# 2. Group by Legislative District and count unique VINs (1-10) for total vehicles\n",
        "total_vehicles_by_district = df.groupby('Legislative District')['VIN (1-10)'].nunique()\n",
        "\n",
        "# 3. Calculate EV Adoption Rate per District\n",
        "ev_adoption_rate = (ev_counts_by_district / total_vehicles_by_district) * 100\n",
        "\n",
        "# 4. Sort by Adoption Rate (Descending)\n",
        "sorted_districts = ev_adoption_rate.sort_values(ascending=False)\n",
        "\n",
        "# 5. Get Top Districts (e.g., Top 10)\n",
        "top_districts = sorted_districts.head(10)\n",
        "\n",
        "# 6. Display Results\n",
        "print(\"Legislative Districts with Highest EV Adoption Rates (using VIN):\")\n",
        "print(top_districts)"
      ],
      "metadata": {
        "colab": {
          "base_uri": "https://localhost:8080/"
        },
        "id": "xGCjyCHd7Zg4",
        "outputId": "46183efa-3f81-4776-e11c-e42bdf250fcc"
      },
      "execution_count": 50,
      "outputs": [
        {
          "output_type": "stream",
          "name": "stdout",
          "text": [
            "Legislative Districts with Highest EV Adoption Rates (using VIN):\n",
            "Legislative District\n",
            "11.0    331.165541\n",
            "41.0    221.877979\n",
            "45.0    210.531178\n",
            "48.0    208.904110\n",
            "1.0     173.524721\n",
            "33.0    170.287540\n",
            "5.0     165.096154\n",
            "47.0    160.326609\n",
            "36.0    156.779122\n",
            "46.0    156.306578\n",
            "dtype: float64\n"
          ]
        }
      ]
    },
    {
      "cell_type": "code",
      "source": [
        "plt.figure(figsize=(10, 6))\n",
        "plt.bar(top_districts.index, top_districts.values, color='skyblue')\n",
        "plt.xlabel(\"Legislative District\")\n",
        "plt.ylabel(\"EV Adoption Rate (%)\")\n",
        "plt.title(\"Top Legislative Districts with Highest EV Adoption Rates (using VIN)\")\n",
        "plt.xticks(rotation=45, ha='right')\n",
        "plt.tight_layout()\n",
        "plt.show()\n"
      ],
      "metadata": {
        "colab": {
          "base_uri": "https://localhost:8080/",
          "height": 433
        },
        "id": "1JOgTM4j7oDt",
        "outputId": "f84c71f7-8c5f-406c-881a-f6851c6bf1d3"
      },
      "execution_count": 59,
      "outputs": [
        {
          "output_type": "display_data",
          "data": {
            "text/plain": [
              "<Figure size 1000x600 with 1 Axes>"
            ],
            "image/png": "[encoded data removed]"
          },
          "metadata": {}
        }
      ]
    },
    {
      "cell_type": "markdown",
      "source": [
        "##**Medium Level Questions**"
      ],
      "metadata": {
        "id": "31e1m6Dp-h4w"
      }
    },
    {
      "cell_type": "markdown",
      "source": [
        "###***Q1 What is the average base MSRP for elctric vehicles in different counties?***"
      ],
      "metadata": {
        "id": "zkcHQT9K-rt4"
      }
    },
    {
      "cell_type": "code",
      "source": [
        "# Group by county and calculate the average base MSRP\n",
        "average_msrp_by_county = df.groupby('County')['Base MSRP'].mean()\n",
        "\n",
        "# Display the results\n",
        "print(\"Average Base MSRP for Electric Vehicles in Different Counties:\")\n",
        "print(average_msrp_by_county)"
      ],
      "metadata": {
        "colab": {
          "base_uri": "https://localhost:8080/"
        },
        "id": "IFSwxaLQ75eG",
        "outputId": "471eb1ef-b49b-4d85-b4be-dcc6ee1fabd7"
      },
      "execution_count": 60,
      "outputs": [
        {
          "output_type": "stream",
          "name": "stdout",
          "text": [
            "Average Base MSRP for Electric Vehicles in Different Counties:\n",
            "County\n",
            "Adams              0.000000\n",
            "Asotin          6390.000000\n",
            "Benton          1456.250000\n",
            "Chelan          4542.857143\n",
            "Clallam            0.000000\n",
            "Clark            959.285257\n",
            "Columbia           0.000000\n",
            "Cowlitz         1023.684211\n",
            "Douglas         2058.529412\n",
            "Ferry              0.000000\n",
            "Franklin           0.000000\n",
            "Grant              0.000000\n",
            "Grays Harbor       0.000000\n",
            "Island          1255.609756\n",
            "Jefferson          0.000000\n",
            "King             975.220274\n",
            "Kitsap          1153.987138\n",
            "Kittitas           0.000000\n",
            "Klickitat       3177.272727\n",
            "Lewis              0.000000\n",
            "Marin              0.000000\n",
            "Mason           1272.413793\n",
            "Montgomery         0.000000\n",
            "Okanogan           0.000000\n",
            "Pacific         6450.000000\n",
            "Pend Oreille       0.000000\n",
            "Pierce           802.107280\n",
            "San Juan        1183.333333\n",
            "Skagit           736.000000\n",
            "Skamania           0.000000\n",
            "Snohomish        719.522735\n",
            "Spokane            0.000000\n",
            "Stevens            0.000000\n",
            "Thurston         813.881842\n",
            "Wahkiakum          0.000000\n",
            "Walla Walla        0.000000\n",
            "Whatcom          399.950000\n",
            "Whitman            0.000000\n",
            "Yakima          1520.754717\n",
            "Name: Base MSRP, dtype: float64\n"
          ]
        }
      ]
    },
    {
      "cell_type": "markdown",
      "source": [
        "###***Q2 Which vehicle models have the highest and lowest electric ranges?***"
      ],
      "metadata": {
        "id": "VQ72q_UZ_MwU"
      }
    },
    {
      "cell_type": "code",
      "source": [
        "# Group by model and get the maximum and minimum electric ranges\n",
        "model_ranges = df.groupby('Model')['Electric Range'].agg(['max', 'min'])\n",
        "\n",
        "# Find the models with the highest and lowest ranges\n",
        "highest_range_model = model_ranges['max'].idxmax()\n",
        "lowest_range_model = model_ranges['min'].idxmin()\n",
        "\n",
        "# Display the results\n",
        "print(f\"Model with highest electric range: {highest_range_model} ({model_ranges.loc[highest_range_model, 'max']})\")\n",
        "print(f\"Model with lowest electric range: {lowest_range_model} ({model_ranges.loc[lowest_range_model, 'min']})\")"
      ],
      "metadata": {
        "colab": {
          "base_uri": "https://localhost:8080/"
        },
        "id": "xIeFWTp__KUB",
        "outputId": "28946969-2409-4aa6-9e4b-b9d605545c3d"
      },
      "execution_count": 61,
      "outputs": [
        {
          "output_type": "stream",
          "name": "stdout",
          "text": [
            "Model with highest electric range: MODEL S (337)\n",
            "Model with lowest electric range: AIR (0)\n"
          ]
        }
      ]
    },
    {
      "cell_type": "markdown",
      "source": [
        "###***Q3 How does the distribution of electric vehicle types vary across different cities?***"
      ],
      "metadata": {
        "id": "48ntEWphCKq6"
      }
    },
    {
      "cell_type": "code",
      "source": [
        "# Create a cross-tabulation (contingency table) of vehicle types and cities\n",
        "city_type_distribution = pd.crosstab(df['City'], df['Electric Vehicle Type'])\n",
        "\n",
        "# Display the distribution table\n",
        "print(\"Distribution of Electric Vehicle Types by City:\")\n",
        "print(city_type_distribution)\n",
        "\n"
      ],
      "metadata": {
        "colab": {
          "base_uri": "https://localhost:8080/"
        },
        "id": "EC2YU10b_kA0",
        "outputId": "219ea85d-aa65-4002-bc68-86ca5243fc63"
      },
      "execution_count": 65,
      "outputs": [
        {
          "output_type": "stream",
          "name": "stdout",
          "text": [
            "Distribution of Electric Vehicle Types by City:\n",
            "Electric Vehicle Type  Battery Electric Vehicle (BEV)  \\\n",
            "City                                                    \n",
            "Aberdeen                                            4   \n",
            "Algona                                             13   \n",
            "Allyn                                               1   \n",
            "Amboy                                               8   \n",
            "Anacortes                                          11   \n",
            "...                                               ...   \n",
            "Yacolt                                             14   \n",
            "Yakima                                            150   \n",
            "Yarrow Point                                        7   \n",
            "Yelm                                               99   \n",
            "Zillah                                             12   \n",
            "\n",
            "Electric Vehicle Type  Plug-in Hybrid Electric Vehicle (PHEV)  \n",
            "City                                                           \n",
            "Aberdeen                                                    1  \n",
            "Algona                                                      5  \n",
            "Allyn                                                       0  \n",
            "Amboy                                                       1  \n",
            "Anacortes                                                   5  \n",
            "...                                                       ...  \n",
            "Yacolt                                                      5  \n",
            "Yakima                                                     60  \n",
            "Yarrow Point                                                1  \n",
            "Yelm                                                       52  \n",
            "Zillah                                                      1  \n",
            "\n",
            "[266 rows x 2 columns]\n"
          ]
        }
      ]
    },
    {
      "cell_type": "markdown",
      "source": [
        "###***Q4 What are the top 5 electric vehicle models with the highest base MSRP***"
      ],
      "metadata": {
        "id": "FuzfkRpmHdRC"
      }
    },
    {
      "cell_type": "code",
      "source": [
        "\n",
        "\n",
        "# Sort by Base MSRP in descending order and get the top 5\n",
        "top_5_msrp_models = df.sort_values(by=['Base MSRP'], ascending=False).head(5)[['Model', 'Base MSRP']]\n",
        "\n",
        "# Display the results\n",
        "print(\"Top 5 Electric Vehicle Models with Highest Base MSRP:\")\n",
        "print(top_5_msrp_models)"
      ],
      "metadata": {
        "colab": {
          "base_uri": "https://localhost:8080/"
        },
        "id": "msU3rAA4FStg",
        "outputId": "55f0927e-e344-48b5-f959-f65e157e7b9b"
      },
      "execution_count": 66,
      "outputs": [
        {
          "output_type": "stream",
          "name": "stdout",
          "text": [
            "Top 5 Electric Vehicle Models with Highest Base MSRP:\n",
            "          Model  Base MSRP\n",
            "24900  PANAMERA     184400\n",
            "552    PANAMERA     184400\n",
            "39524  PANAMERA     184400\n",
            "12783  PANAMERA     184400\n",
            "736    PANAMERA     184400\n"
          ]
        }
      ]
    },
    {
      "cell_type": "markdown",
      "source": [
        "###***Q5 What is the trend of electric vehicle registration over the past 5 years?***"
      ],
      "metadata": {
        "id": "Xu8hXWPvJIFx"
      }
    },
    {
      "cell_type": "code",
      "source": [
        "# Filter data for the past 5 years\n",
        "recent_years = df[df['Model Year'].isin(range(df['Model Year'].max() - 4, df['Model Year'].max() + 1))]\n",
        "\n",
        "# Group by Model Year and count registrations\n",
        "registration_trend = recent_years.groupby('Model Year')['VIN (1-10)'].nunique()\n",
        "\n",
        "# Create a line chart\n",
        "plt.figure(figsize=(10, 6))\n",
        "plt.plot(registration_trend.index, registration_trend.values, marker='o', linestyle='-')\n",
        "plt.xlabel(\"Model Year\")\n",
        "plt.ylabel(\"Number of Registrations\")\n",
        "plt.title(\"Trend of Electric Vehicle Registration (Past 5 Years)\")\n",
        "plt.grid(True)\n",
        "plt.show()"
      ],
      "metadata": {
        "colab": {
          "base_uri": "https://localhost:8080/",
          "height": 461
        },
        "id": "B5uLYWF2Iioj",
        "outputId": "ed4483b6-4999-4cec-97a3-47a70eadc77a"
      },
      "execution_count": 69,
      "outputs": [
        {
          "output_type": "display_data",
          "data": {
            "text/plain": [
              "<Figure size 1000x600 with 1 Axes>"
            ],
            "image/png": "[encoded data removed]"
          },
          "metadata": {}
        }
      ]
    },
    {
      "cell_type": "markdown",
      "source": [
        "###***Q6. Which legislative districts have the highest growth in EV adoption over the past 5 years***"
      ],
      "metadata": {
        "id": "R5l5WaDyJuUF"
      }
    },
    {
      "cell_type": "code",
      "source": [
        "# Filter data for the past 5 years\n",
        "recent_years = df[df['Model Year'].isin(range(df['Model Year'].max() - 4, df['Model Year'].max() + 1))]\n",
        "\n",
        "# Group by Legislative District and Model Year, then count unique VINs\n",
        "ev_counts_by_district_year = recent_years.groupby(['Legislative District', 'Model Year'])['VIN (1-10)'].nunique()\n",
        "\n",
        "# Calculate EV adoption growth for each district\n",
        "ev_adoption_growth = ev_counts_by_district_year.groupby('Legislative District').pct_change()\n",
        "\n",
        "# Get the average growth rate over the past 5 years for each district\n",
        "average_growth_by_district = ev_adoption_growth.groupby('Legislative District').mean()\n",
        "\n",
        "# Sort by average growth rate (descending)\n",
        "sorted_districts = average_growth_by_district.sort_values(ascending=False)\n",
        "\n",
        "# Get the top districts (e.g., top 10)\n",
        "top_districts = sorted_districts.head(10)\n",
        "\n",
        "# Display the results\n",
        "print(\"Legislative Districts with Highest EV Adoption Growth (Past 5 Years):\")\n",
        "print(top_districts)"
      ],
      "metadata": {
        "colab": {
          "base_uri": "https://localhost:8080/"
        },
        "id": "2p28_milJkVQ",
        "outputId": "c18f1737-9900-4033-eab7-4576b70130c9"
      },
      "execution_count": 70,
      "outputs": [
        {
          "output_type": "stream",
          "name": "stdout",
          "text": [
            "Legislative Districts with Highest EV Adoption Growth (Past 5 Years):\n",
            "Legislative District\n",
            "25.0    1.300000\n",
            "13.0    1.057576\n",
            "29.0    1.041667\n",
            "42.0    0.661765\n",
            "4.0     0.585859\n",
            "9.0     0.555556\n",
            "3.0     0.547619\n",
            "11.0    0.533970\n",
            "38.0    0.532407\n",
            "21.0    0.408838\n",
            "Name: VIN (1-10), dtype: float64\n"
          ]
        }
      ]
    },
    {
      "cell_type": "code",
      "source": [
        "# Create a bar chart to visualize the growth\n",
        "plt.figure(figsize=(12, 6))  # Adjust figure size as needed\n",
        "plt.bar(top_districts.index, top_districts.values * 100, color='skyblue')  # Multiply by 100 for percentage\n",
        "plt.xlabel(\"Legislative District\")\n",
        "plt.ylabel(\"Average EV Adoption Growth (%)\")\n",
        "plt.title(\"Top Legislative Districts with Highest EV Adoption Growth (Past 5 Years)\")\n",
        "plt.xticks(rotation=45, ha='right')  # Rotate x-axis labels for better readability\n",
        "plt.tight_layout()  # Adjust layout to prevent labels from overlapping\n",
        "plt.show()"
      ],
      "metadata": {
        "colab": {
          "base_uri": "https://localhost:8080/",
          "height": 363
        },
        "id": "2Wpn6-rVLbKd",
        "outputId": "8d882fe8-22ef-4385-fbd0-898b708e7516"
      },
      "execution_count": 71,
      "outputs": [
        {
          "output_type": "display_data",
          "data": {
            "text/plain": [
              "<Figure size 1200x600 with 1 Axes>"
            ],
            "image/png": "[encoded data removed]"
          },
          "metadata": {}
        }
      ]
    },
    {
      "cell_type": "code",
      "source": [],
      "metadata": {
        "id": "afzoFHIIL9tk"
      },
      "execution_count": null,
      "outputs": []
    }
  ]
}